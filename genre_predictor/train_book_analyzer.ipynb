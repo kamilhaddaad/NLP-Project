{
  "cells": [
    {
      "cell_type": "code",
      "execution_count": 12,
      "metadata": {
        "id": "ygbU7KWkVEw7"
      },
      "outputs": [],
      "source": [
        "import torch\n",
        "from transformers import BertTokenizer, BertForSequenceClassification\n",
        "from transformers import get_linear_schedule_with_warmup\n",
        "from torch.optim import AdamW\n",
        "import pandas as pd\n",
        "import numpy as np\n",
        "from sklearn.model_selection import train_test_split\n",
        "from torch.utils.data import Dataset, DataLoader\n",
        "import os\n",
        "import json"
      ]
    },
    {
      "cell_type": "code",
      "execution_count": 13,
      "metadata": {
        "id": "8M-qpbPmVEw9"
      },
      "outputs": [],
      "source": [
        "class BookDataset(Dataset):\n",
        "    def __init__(self, texts, labels, tokenizer):\n",
        "        self.texts = texts\n",
        "        self.labels = labels\n",
        "        self.tokenizer = tokenizer\n",
        "\n",
        "    def __len__(self):\n",
        "        return len(self.texts)\n",
        "\n",
        "    def __getitem__(self, idx):\n",
        "        text = str(self.texts[idx])\n",
        "        label = self.labels[idx]\n",
        "\n",
        "        encoding = self.tokenizer(\n",
        "            text,\n",
        "            add_special_tokens=True,\n",
        "            max_length=512,\n",
        "            return_token_type_ids=False,\n",
        "            padding='max_length',\n",
        "            truncation=True,\n",
        "            return_attention_mask=True,\n",
        "            return_tensors='pt'\n",
        "        )\n",
        "\n",
        "        return {\n",
        "            'input_ids': encoding['input_ids'].flatten(),\n",
        "            'attention_mask': encoding['attention_mask'].flatten(),\n",
        "            'labels': torch.tensor(label, dtype=torch.long)\n",
        "        }"
      ]
    },
    {
      "cell_type": "code",
      "execution_count": 14,
      "metadata": {
        "id": "-bteJ1_uVEw9"
      },
      "outputs": [],
      "source": [
        "output_dir = 'models'\n",
        "dataset_path = 'book_genre_prediction.csv'\n",
        "epochs = 10\n",
        "# Create output directory if it doesn't exist\n",
        "os.makedirs(output_dir, exist_ok=True)\n",
        "\n",
        "# Define genres\n",
        "genres = [\n",
        "    'fantasy', 'science', 'crime', 'history',\n",
        "    'horror', 'thriller', 'psychology', 'romance',\n",
        "    'sports', 'travel'\n",
        "]\n",
        "\n",
        "# Save genres list\n",
        "with open(os.path.join(output_dir, 'genres.json'), 'w') as f:\n",
        "    json.dump(genres, f)\n",
        "\n",
        "# Initialize tokenizer and model\n",
        "device = torch.device('cuda' if torch.cuda.is_available() else 'cpu')\n",
        "tokenizer = BertTokenizer.from_pretrained('bert-base-uncased')"
      ]
    },
    {
      "cell_type": "code",
      "execution_count": 15,
      "metadata": {
        "colab": {
          "base_uri": "https://localhost:8080/"
        },
        "id": "YNQ8DhSuVEw-",
        "outputId": "317fde70-01d9-43dc-b295-d86ef2046ac1"
      },
      "outputs": [
        {
          "name": "stdout",
          "output_type": "stream",
          "text": [
            "Loading dataset...\n",
            "['fantasy' 'science' 'crime' 'history' 'horror' 'thriller' 'psychology'\n",
            " 'romance' 'sports' 'travel']\n"
          ]
        }
      ],
      "source": [
        "# Load and prepare data\n",
        "print(\"Loading dataset...\")\n",
        "df = pd.read_csv(dataset_path)\n",
        "print(df['genre'].unique())\n",
        "texts = df['summary'].values\n",
        "genre_to_idx = {genre: idx for idx, genre in enumerate(genres)}\n",
        "labels = df['genre'].map(genre_to_idx).values\n",
        "\n",
        "if np.isnan(labels).any():\n",
        "    print(\"Found NaN labels! These rows will be dropped.\")\n",
        "    print(df[pd.isna(labels)])\n",
        "    # Optionally, drop these rows:\n",
        "    valid_idx = ~np.isnan(labels)\n",
        "    texts = texts[valid_idx]\n",
        "    labels = labels[valid_idx]\n",
        "\n",
        "# Split data\n",
        "train_texts, val_texts, train_labels, val_labels = train_test_split(\n",
        "    texts, labels, test_size=0.2, random_state=42\n",
        ")\n",
        "\n",
        "# Create datasets\n",
        "train_dataset = BookDataset(train_texts, train_labels, tokenizer)\n",
        "val_dataset = BookDataset(val_texts, val_labels, tokenizer)\n",
        "\n",
        "# Create dataloaders\n",
        "train_loader = DataLoader(train_dataset, batch_size=16, shuffle=True)\n",
        "val_loader = DataLoader(val_dataset, batch_size=16)"
      ]
    },
    {
      "cell_type": "code",
      "execution_count": 16,
      "metadata": {
        "colab": {
          "base_uri": "https://localhost:8080/"
        },
        "id": "thoAJECUVEw_",
        "outputId": "2195bc2c-fe16-488e-9c2f-b848b1db6020"
      },
      "outputs": [
        {
          "name": "stdout",
          "output_type": "stream",
          "text": [
            "Initializing model...\n"
          ]
        },
        {
          "name": "stderr",
          "output_type": "stream",
          "text": [
            "Some weights of BertForSequenceClassification were not initialized from the model checkpoint at bert-base-uncased and are newly initialized: ['classifier.bias', 'classifier.weight']\n",
            "You should probably TRAIN this model on a down-stream task to be able to use it for predictions and inference.\n"
          ]
        }
      ],
      "source": [
        "# Initialize classifier\n",
        "print(\"Initializing model...\")\n",
        "model = BertForSequenceClassification.from_pretrained(\n",
        "    'bert-base-uncased',\n",
        "    num_labels=len(genres)\n",
        ").to(device)\n",
        "\n",
        "# Training setup\n",
        "optimizer = AdamW(model.parameters(), lr=2e-5)\n",
        "total_steps = len(train_loader) * epochs\n",
        "scheduler = get_linear_schedule_with_warmup(\n",
        "    optimizer,\n",
        "    num_warmup_steps=0,\n",
        "    num_training_steps=total_steps\n",
        ")"
      ]
    },
    {
      "cell_type": "code",
      "execution_count": 17,
      "metadata": {
        "colab": {
          "base_uri": "https://localhost:8080/"
        },
        "id": "oOdaoFalVEw_",
        "outputId": "868c30eb-3fd9-4230-ec53-8ef3890408dc"
      },
      "outputs": [
        {
          "name": "stdout",
          "output_type": "stream",
          "text": [
            "Starting training...\n",
            "Epoch 1/10, Average Loss: 1.3625\n",
            "Validation Loss: 0.8873\n",
            "Saving best model...\n",
            "Epoch 2/10, Average Loss: 0.6793\n",
            "Validation Loss: 0.7746\n",
            "Saving best model...\n",
            "Epoch 3/10, Average Loss: 0.4322\n",
            "Validation Loss: 0.8211\n",
            "No improvement for 1 epoch(s).\n",
            "Epoch 4/10, Average Loss: 0.2714\n",
            "Validation Loss: 0.8398\n",
            "No improvement for 2 epoch(s).\n",
            "Early stopping triggered after 4 epochs.\n",
            "Training completed!\n",
            "Model saved to models/book_analyzer_model\n"
          ]
        }
      ],
      "source": [
        "# Training loop\n",
        "print(\"Starting training...\")\n",
        "patience = 2 \n",
        "epochs_no_improve = 0\n",
        "best_val_loss = float('inf')\n",
        "\n",
        "for epoch in range(epochs):\n",
        "    model.train()\n",
        "    total_loss = 0\n",
        "\n",
        "    for batch in train_loader:\n",
        "        input_ids = batch['input_ids'].to(device)\n",
        "        attention_mask = batch['attention_mask'].to(device)\n",
        "        labels = batch['labels'].to(device)\n",
        "\n",
        "        outputs = model(\n",
        "            input_ids=input_ids,\n",
        "            attention_mask=attention_mask,\n",
        "            labels=labels\n",
        "        )\n",
        "\n",
        "        loss = outputs.loss\n",
        "        total_loss += loss.item()\n",
        "\n",
        "        loss.backward()\n",
        "        torch.nn.utils.clip_grad_norm_(model.parameters(), 1.0)\n",
        "        optimizer.step()\n",
        "        scheduler.step()\n",
        "        optimizer.zero_grad()\n",
        "\n",
        "    avg_loss = total_loss / len(train_loader)\n",
        "    print(f'Epoch {epoch + 1}/{epochs}, Average Loss: {avg_loss:.4f}')\n",
        "\n",
        "    # Validation\n",
        "    model.eval()\n",
        "    val_loss = 0\n",
        "    with torch.no_grad():\n",
        "        for batch in val_loader:\n",
        "            input_ids = batch['input_ids'].to(device)\n",
        "            attention_mask = batch['attention_mask'].to(device)\n",
        "            labels = batch['labels'].to(device)\n",
        "\n",
        "            outputs = model(\n",
        "                input_ids=input_ids,\n",
        "                attention_mask=attention_mask,\n",
        "                labels=labels\n",
        "            )\n",
        "            val_loss += outputs.loss.item()\n",
        "\n",
        "    avg_val_loss = val_loss / len(val_loader)\n",
        "    print(f'Validation Loss: {avg_val_loss:.4f}')\n",
        "\n",
        "    # Early stopping check\n",
        "    if avg_val_loss < best_val_loss:\n",
        "        best_val_loss = avg_val_loss\n",
        "        epochs_no_improve = 0\n",
        "        print(\"Saving best model...\")\n",
        "        model.save_pretrained(os.path.join(output_dir, 'book_analyzer_model'))\n",
        "        tokenizer.save_pretrained(os.path.join(output_dir, 'book_analyzer_model'))\n",
        "    else:\n",
        "        epochs_no_improve += 1\n",
        "        print(f\"No improvement for {epochs_no_improve} epoch(s).\")\n",
        "\n",
        "    if epochs_no_improve >= patience:\n",
        "        print(f\"Early stopping triggered after {epoch+1} epochs.\")\n",
        "        break\n",
        "\n",
        "print(\"Training completed!\")\n",
        "print(f\"Model saved to {os.path.join(output_dir, 'book_analyzer_model')}\")"
      ]
    }
  ],
  "metadata": {
    "accelerator": "GPU",
    "colab": {
      "gpuType": "A100",
      "machine_shape": "hm",
      "provenance": []
    },
    "kernelspec": {
      "display_name": "myenv",
      "language": "python",
      "name": "python3"
    },
    "language_info": {
      "codemirror_mode": {
        "name": "ipython",
        "version": 3
      },
      "file_extension": ".py",
      "mimetype": "text/x-python",
      "name": "python",
      "nbconvert_exporter": "python",
      "pygments_lexer": "ipython3",
      "version": "3.9.13"
    }
  },
  "nbformat": 4,
  "nbformat_minor": 0
}
