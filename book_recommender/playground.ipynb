{
 "cells": [
  {
   "cell_type": "code",
   "execution_count": null,
   "id": "d734b119",
   "metadata": {},
   "outputs": [
    {
     "name": "stderr",
     "output_type": "stream",
     "text": [
      "c:\\Users\\silve\\anaconda3\\envs\\dialogues-topic-models\\Lib\\site-packages\\tqdm\\auto.py:21: TqdmWarning: IProgress not found. Please update jupyter and ipywidgets. See https://ipywidgets.readthedocs.io/en/stable/user_install.html\n",
      "  from .autonotebook import tqdm as notebook_tqdm\n"
     ]
    }
   ],
   "source": [
    "import pandas as pd\n",
    "import numpy as np"
   ]
  },
  {
   "cell_type": "code",
   "execution_count": 2,
   "id": "90f9f4f8",
   "metadata": {},
   "outputs": [
    {
     "data": {
      "application/vnd.microsoft.datawrangler.viewer.v0+json": {
       "columns": [
        {
         "name": "index",
         "rawType": "int64",
         "type": "integer"
        },
        {
         "name": "index",
         "rawType": "int64",
         "type": "integer"
        },
        {
         "name": "title",
         "rawType": "object",
         "type": "string"
        },
        {
         "name": "genre",
         "rawType": "object",
         "type": "string"
        },
        {
         "name": "summary",
         "rawType": "object",
         "type": "string"
        }
       ],
       "ref": "aa583112-4dcc-491c-9490-65990f697a70",
       "rows": [
        [
         "0",
         "0",
         "Drowned Wednesday",
         "fantasy",
         " Drowned Wednesday is the first Trustee among the Morrow Days who is on Arthur's side and wishes the Will to be fulfilled. She appears as a leviathan/whale and suffers from Gluttony. The book begins when Leaf is visiting Arthur and they are discussing the invitation that Drowned Wednesday sent him. Arthur had been admitted to hospital because of the damage done to his leg when he attempted to enter Tuesday's Treasure Tower. Suddenly, the hospital room becomes flooded with water as the two are transported to the Border Sea of the House. Leaf is snatched away by a large ship with green sails, known as the Flying Mantis, while Arthur remains in his bed. When the Medallion given him by the immortal called the Mariner apparently fails to summon help, Arthur is without hope. Eventually, a buoy marking the pirate Elishar Feverfew's treasure floats toward him. As soon as Arthur opens it, his hand is marked with a bloody red colour. Arthur now has the Red Hand, by which Feverfew marks whoever has found his treasure, so that he can identify them later. Not long after, a scavenging ship called the Moth rescues Arthur. On board, Arthur (going by the name of Arth) is introduced to Sunscorch, the First Mate, and to Captain Catapillow. Their journey brings them through the Line of Storms and into the Border Sea, where they are later pursued by Feverfew's ghostly ship, the Shiver. The damage inflicted on the Moth is serious; therefore Sunscorch commands an Upper House Sorcerer, Dr. Scamandros, to open a transfer portal to elsewhere in the Secondary Realms. Scamandros claims that Arthur is carrying something that interfered with his magic, and tells Sunscorch to throw him overboard. As a last resort, Arthur shows them the Mariner's Medallion, which stops Scamandros saying that they must get rid of Arthur. After going through the transfer portal (with Arthur's help), the ship is grounded on a beach. When Arthur wished to learn what happened to Leaf, Dr. Scamandros applies his sorcery to make it possible. She is revealed to be aboard the ship Flying Mantis. Arthur joins Catapillow for supper, later to reveal his identity. At first, Propaganda issued by Dame Primus (Arthur's Steward) makes them skeptical of this, but they eventually become convinced. A few days later, Wednesday's Dawn takes Arthur to meet Wednesday for her 'luncheon of seventeen removes'. As they approach, Wednesday shrinks into her human form to meet Arthur. During their lunch, Wednesday tells Arthur that after Part 3 of the Will has been released, she will surrender the Third Key to Arthur. Arthur is then taken by Wednesday's Dawn to a place called the triangle in search of his friend Leaf. He learns that Leaf has been forced to work on the Mantis, but is otherwise intact. Arthur later makes a deal with the Raised Rats, a group of anthropomorphic rats brought to the House by the Piper, to take him to Feverfew's hideout, which they believe is inside a miniature world located within Drowned Wednesday's stomach. On the Raised Rats' ship, Arthur opens a gift from Dr. Scamandros, which proves to be a golden transfer watch. With this, he communicates with and rescues Dr. Scamandros. He then uses a scrying mirror Dr. Scamandros gave him to watch Leaf. A rat watches him during the scry, and later saves him from a battle with Feverfew. Later, the Rats bring Arthur onto their submarine, where he meets with Suzy Turquiose Blue. In contrast to Suzy's former cockney attitude, she has assumed a more \"ladylike and proper\" demeanor on the orders of Dame Primus. Only when they are no longer on the Border Sea, but under it, does she resume her customary ways of speech and dress. They are, with navigational difficulty, able to enter the stomach of Lady Wednesday and the worldlet therein. There, Arthur and Suzy, disguised as rats, find escaped slaves, professed followers of the Carp. These exiles take them to the Carp, who is the third part of the Will. They are halted in their attempt to escape by Feverfew, who proposes that each of them will try to kill the other by means of one strike only. Arthur fails his first try, then dodges Feverfew and severs his head. Leaf, who is Feverfew's prisoner, then kicks it into a mud puddle containing Nothing, which consumes it. Upon his death, the worldlet begins to collapse. Via the Moth, Arthur and all his friends (with the exception of the reluctant Catapillow) are able to escape. Lady Wednesday recovers from her gluttony, then dies as a result of being poisoned by the worldlet, which had opened a void to Nothing. Arthur, now Duke of the Border Sea, appoints Sunscorch as his Noon and Scamandros as his Dusk. fr:Mercredi sous les flots th:พุธเพชฌฆาต"
        ],
        [
         "1",
         "1",
         "The Lost Hero",
         "fantasy",
         " As the book opens, Jason awakens on a school bus, unable to remember who or where he is, or anything about his past. He is sitting next to Piper McLean and Leo Valdez, who call him by name and say they are his girlfriend and best friend respectively. All three are part of a class field trip to the Grand Canyon, and after they arrive, a classmate Dylan turns into a Venti (Storm Spirit) and attacks the trio and their trip leader, Coach Gleeson Hedge. In the ensuing fight, Jason surprises everyone, including himself, when one of his coins turns into a sword which he uses to battle the storm spirits. Coach Hedge, who reveals himself to be a satyr during the fight, is taken captive by a fleeing spirit. After the battle, a flying chariot arrives to rescue the trio, but one of the people in it, Annabeth, is upset when she discovers that her missing boyfriend, Percy Jackson, is not there as she expected. Annabeth, seeking Percy, was told in a vision from the goddess Hera to look there for the \"guy with one shoe\", but this turns out to be Jason, who had a shoe destroyed during the fight. Jason, Piper,and Leo are told that they are demigods and are taken back to Camp Half-Blood where they meet other greek demigod children like themselves. There, Leo is revealed as a son of Hephaestus, Piper as a daughter of Aphrodite and Jason as a son of Zeus, though Hera tells him he is her champion. Jason later discovers that he is the full brother of Zeus's demigod daughter Thalia Grace, who is a Hunter of Artemis. Shortly after they arrive, the three are given a quest to rescue Hera, who has been captured, and they set off. They soon discover that their enemies are working under orders from Gaea to overthrow the gods. During their quest, they encounter Thalia and the Hunters, who have been looking for Percy. Thalia and Jason reunite for the first since Jason was captured at the age of two. On the way to Aeolus's castle, Jason, Leo and Piper become separated from Thalia, who promises to meet them at the Wolf House, the last place Thalia had seen Jason before this meeting. After being nearly apprehended by Aeolus, who is under Gaea's orders, the trio manage to escape thanks to Mellie, Aeolus`s former assistant, and end up in San Francisco, thanks to the result of a dream Piper had with Aphrodite. After landing in San Francisco, the trio rush to Mt.Diablo to fight the giant Enceladus, who has kidnapped Piper's father. They manage to kill the giant and save Piper's father, after which they rush to the Wolf House to free Hera. Although the heroes and the Hunters save Hera, the king of the giants, Porphyrion, rises fully and disappears into a hole in the Earth. Jason's memory then starts returning, and he remembers that he is a hero from a Roman counterpart to Camp Half-Blood somewhere near San Francisco, and is the son of Jupiter, Zeus's Roman aspect. He realizes that Hera, also known as Juno, has switched him with Percy Jackson, who will be at the Roman camp with no memory of his life, in the hopes that the two camps would ultimately work together to fight the giants and defeat the goddess Gaea."
        ],
        [
         "2",
         "2",
         "The Eyes of the Overworld",
         "fantasy",
         " Cugel is easily persuaded by the merchant Fianosther to attempt the burglary of the manse of Iucounu the Laughing Magician. Trapped and caught, he agrees that in exchange for his freedom he will undertake the recovery of a small hemisphere of violet glass, an Eye of the Overworld, to match one already in the wizard's possession. A small sentient alien entity of barbs and hooks, named Firx, is attached to his liver to encourage his \"unremitting loyalty, zeal and singleness of purpose,\" and Iucounu uses a spell to transport Cugel via flying demon to the remote Land of Cutz. There, Cugel finds two villages, one occupied by wearers of the violet lenses, the other by peasants who work on behalf of the lens-wearers, in hopes of being promoted to their ranks. The lenses cause their wearers to see, not their squalid surroundings, but the Overworld, a vastly superior version of reality where a hut is a palace, gruel is a magnificent feast, etc. — \"seeing the world through rose-colored glasses\" on a grand scale. Cugel gains an Eye by trickery, and escapes from Cutz. He then undertakes an arduous trek back to Iucounu, cursing the magician the entire way; this forms the principal part of the book. After many pitfalls, setbacks, and harrowing escapes, including the eviction of Firx from his system, Cugel returns to Iucounu's manse, where he finds the wizard's volition has been captured by a twin to Firx. Cugel manages to extirpate the alien, subdue the magician, and enjoy the easy life in the manse, until he tries to banish Iucounu and Fianosther (who himself has come to pilfer from Cugel) with the same spell that the magician had used on him. But Cugel's tongue slips in uttering the incantation, and the flying demon seizes him instead, delivering him to the same spot as before. Author Michael Shea wrote an authorized sequel, A Quest for Simbilis (DAW Books, NY, 1974). Vance's own Cugel sequel was published as Cugel's Saga in 1983."
        ],
        [
         "3",
         "3",
         "Magic's Promise",
         "fantasy",
         " The book opens with Herald-Mage Vanyel returning to his country Valdemar from an extensive campaign along the border with Karse, the neighboring enemy country. He checks in with Valdemar's King Randale and his lifebonded mate, Shavri, and their daughter Jisa. Only a select few know that Jisa is Vanyel's daughter. Because King Randale is sterile, he had asked Vanyel to father an heir. Now, Shavri confides in Vanyel her fear that Randale is mortally ill. Vanyel and his mentor Savil return to Vanyel's family home at Forst Reach, where they find little rest or peace. His parents both try to change his mind about being shay'a'chern, or homosexual. Vanyel becomes somewhat confused about his own sexuality. He wonders if he is truly in love with Shavri. Yfandes, Vanyel's Companion, doesn't buy it and finds the situation amusing. Vanyel also meets his illegitimate nephew, Medren. Medren is small for his age as Vanyel was, and like him it appears that he is often bullied by the armsmaster Jervis. The boy has a powerful Bardic gift, and Vanyel sponsors him for the Bardic Collegium. Vanyel confronts Jervis and learns that the armsmaster is not being intentionally rough. He also apologizes for beating Vanyel long ago, and explains his difficult position with Vanyel's father. He also mentions that he knew Vanyel was shay'a'chern from the beginning, but also knew from his army service that being gay does not keep men from being courageous warriors. Vanyel accepts this and they form an uneasy friendship. The main plot focuses on how Vanyel assists young Prince Tashir Remoerdis. Vanyel and Yandes receive a psychic summons into the neighboring country of Lineas. Upon arrival, they find Tashir, who has just become a Herald, with his Companion, Leshya (nicknamed Ghost by Yfandes). Another Herald, Lores, is beating the child and attacks Ghost when he tries to interfere. He believes that Tashir is actually an evil sorcerer who has murdered his own family. Vanyel immediately stops Lores and commands him to return to Valdemar. Vanyel takes Tashir back to his own home, Forst Reach, and begins to try and discover what truly happened to Tashir's family. He then returns to Lineas, disguised as a minstrel to gather information. In Lineas magic is taboo; no one is supposed to perform it for any reason. It shares a border with Baires, a country ruled by the Mavelan, a family of mages. A treaty was signed to end the warring between the two countries, sealed by the marriage of Tashir's parents. In the treaty there exists a clause that if the royal family of Lineas dies out, the Mavelan can take over the Lineas throne, and vice versa. Vanyel meets an old servant of the Remoerdis family who tells him of Tashir's sad childhood. Tashir was physically and emotionally abused by his father and sexually abused by his mother. His mother was mentally unstable and made seductive overtures to Tashir even as a young child. Tashir looks very much like his mother's uncle Vedric, and rumor has it that he is the product of an incestuous affair between them. Returning to Forst Reach, Vanyel recruits Savil and Jervis to help. Together with Tashir, they return to Lineas, breaking through the palace's magic shields to search the place. They find a secret room which contains a \"heart-stone\", an ordinary rock connected with a magical \"node\" which is keeping a deep, dangerous fault sealed. As the stone was unstable and any magic done in the area could disturb it, a guardian family without magic was appointed. If the stone were to be removed, a giant earthquake would occur destroying Lineas, parts of the outlands, and the border of Valdemar. That was why magic was anathema in Lineas, and also why everyone in the palace was blood related member of the Remoerdis family, sworn to protect the node. In the palace Vanyel and Savil discover a \"trap-spell\", which targets one person and also kills the target's entire family. Tashir's family were the victims of the trap-spell, which was placed by Tashir's uncle Vedric, whose intention is to control both Lineas and Baires. (He is not, however, Tashir's father.) Vedric tries the same trick on Vanyel, who has already caught on and sent Savil away, along with Tashir, while keeping Jervis with him. In defending himself, Vanyel ends up killing most of the Baires family as well as Vedric. Now king of both Baires and Lineas, Tashir considers himself too young and inexperienced. He allows King Randale to annex the two smaller countries into Valdemar. Vanyel finally sorts out that he actually is gay, and that Shavri is just a good friend."
        ],
        [
         "4",
         "4",
         "Taran Wanderer",
         "fantasy",
         " Taran and Gurgi have returned to Caer Dallben following the events of the third chronicle, The Castle of Llyr. It is now full springtime, at least three years after The Book of Three. Taran knows that he loves Princess Eilonwy, who now resides at Dinas Rhydnant for royal education. In full springtime some weeks after return from escorting her there, he is restless and determines to know his parentage, noble or common, partly in hopes that noble birth will support a marriage proposal. Dallben the enchanter tells him nothing but gives his approval for Taran and Gurgi to travel on their own. They travel first to the Marshes of Morva to ask the witches Orddu, Orwen and Orgoch. Taran has nothing of great value to give in exchange, so Orddu merely tells him of an alternative, the Mirror of Llunet in the far east Llawgadarn Mountains will show him who he is. Taran goes next to Cantrev Cadiffor to be outfit by King Smoit for a longer journey. After a border patrol of Smoit's vassal Lord Goryon steals his horse Melynlas and Gurgi's pony, they spend the night with the farm couple Aeddan and Alarca who have lost their son and livestock. Taran would be welcome to remain and he leaves with new respect for common farmers. They recover their steeds because Melynlas will have no other rider and Goryon is relieved to escape the honorary burden of mastering him.At the neighboring stronghold of Lord Gast they meet old friend Fflewddur Fflam, who seems to return to wandering as a bard every spring. Together they go on to Caer Cadarn where Smoit does welcome them. Goryon and Gast have been feuding for years (every spring?), especially over the prize cow Cornillo. When their dispute breaks out again next day, Taran questions King Smoit's habitual resort to imprisonment and persuades Smoit to try Taran's judgment. Namely, the rival cantrev lords shall resow the fields of Aeddan, which have been ruined by battles. The prize cow shall be further compensation, although the lords shall have her calves. The remainder of their commingled herds shall be divided in half by Goryon, and Gast will choose which half to take for himself. The childless widower Smoit later offers to adopt Taran as his son, who will succeed as King of Cadiffor. Taran declines but says he will gladly accept if he discovers noble birth. Continuing eastward, they cross Ystrad. Taran's pet crow Kaw and Fflewddur's mount Llyan, a giant lion, find treasures which they bring to their masters. Kaw a polished bone the size of a toothpick, which has been stashed high in a tree. Llyan a green and yellow frog that has nearly dried to death: their old friend Doli the dwarf, whom they revive. Doli has been transformed during investigation of a deadly threat to the Fair Folk. He knows that he is not the first to disappear in animal form, for a human wizard Morda has attained power to enchant them, and to raid their underground realms. Taran and Gurgi investigate Morda's abode, followed by Fflewddur, but all are captured by his snares. After explaining himself (history, boasts, plans), Morda turns Fflewddur and Gurgi into a hare and a mouse, but fails to transform Taran. Something protects him, and he guesses from the stump of Morda's little finger that it is the polished bone. Although elderly, Morda is stronger than Taran, but his strength finally snaps the bone in desperate fury to regain it. (Morda has worn a silver crescent moon with pendant jewel on a necklace. Eilonwy has one without the jewel, and Morda prompted by Taran's recognition of the symbol of the House of Llyr has revealed the primary source of his magic. After Eilonwy was kidnapped as a child, the long search by her mother Angharad ended here, where she weakly sought shelter. Morda inherited both the amulet she wore and the empty book among her possessions. He mastered the amulet and developed its power, gave the book to a pest Glew. (The Castle of Llyr.) Morda's death restores Doli and others to their natural forms. Before parting, Taran gives the jewel from Angharad's amulet to him (returning a gift by the Fair Folk to the House of Llyr) and Doli identifies the ceremonial horn Taran wears in token of Eilonwy's pledge. It will summon the Fair Folk to his assistance, and one summons remains. Taran, Gurgi, and Fflewddur camp next with the ruffian Dorath and his band. Their hosts suspect a quest for treasure and offer guidance to Llunet, in exchange for a share. The guests try to slip away early next morning but Dorath prevents that and extracts a wager on hand-to-hand combat with Taran. He cheats and takes Taran's sword (the stake), then departs. An old shepherd Craddoc, with decrepit holdings, welcomes the companions next. From Taran's account of the mission, he welcomes Taran as his son. Fflewddur departs but Taran and Gurgi remain and labor beside him. Taran and Craddoc develop some bond, but Taran also resents the end of his dream of noble birth. During the next winter, however, Craddoc suffers a bad fall down a mountain gorge, and Taran is unable to rescue him. Near death he reveals that he knew enough of Dallben's history to pose as father and gain Taran as a son. The gorge and the weather threaten Taran too, and he finally summons the Fair Folk who are able to save only himself and Gurgi. Afterward Taran and Gurgi continue eastward, across Little Avren to the Free Commots. They stay first with lucky Llonio and his family on the banks of the river, where Taran learns that life is a net to gather what comes. Next Taran assists and learns the trades of three great craftmasters: Hevydd the smith, Dwyvach the weaver, and Annlaw the potter. They teach him that life is a forge, a loom, and a potter's wheel. He learns enough that he would be welcome to remain as assistance, but pottery alone seems to call him and he realizes to his dismay that he will never master it. He does have a new sword, new cloak, and new bowl. Driving the wares of Annlaw to Commot Ivar, he leads the poor farming village in resistance to a raid by Dorath, killing half the band at no loss of life. Annlaw tells Taran the way to the Mirror of Llunet; he knows it, but has never visited, for he knows who he is. After a short journey, Taran and Gurgi find the Mirror, a pool of water at the mouth of a cave beyond the Lake of Llunet. Taran gazes into it, and he is astonished, but Dorath interrupts, now alone. Evidently there is no treasure, so Taran and the ruffian are soon at swordpoint. His old sword shatters on his new one and Dorath flees. Taran does not pursue but returns to Annlaw Clay-Shaper. He relates that the Mirror showed his own reflection and nothing more. Cheated by Orddu? No, for he saw what he had become and all he had learned on the way."
        ]
       ],
       "shape": {
        "columns": 4,
        "rows": 5
       }
      },
      "text/html": [
       "<div>\n",
       "<style scoped>\n",
       "    .dataframe tbody tr th:only-of-type {\n",
       "        vertical-align: middle;\n",
       "    }\n",
       "\n",
       "    .dataframe tbody tr th {\n",
       "        vertical-align: top;\n",
       "    }\n",
       "\n",
       "    .dataframe thead th {\n",
       "        text-align: right;\n",
       "    }\n",
       "</style>\n",
       "<table border=\"1\" class=\"dataframe\">\n",
       "  <thead>\n",
       "    <tr style=\"text-align: right;\">\n",
       "      <th></th>\n",
       "      <th>index</th>\n",
       "      <th>title</th>\n",
       "      <th>genre</th>\n",
       "      <th>summary</th>\n",
       "    </tr>\n",
       "  </thead>\n",
       "  <tbody>\n",
       "    <tr>\n",
       "      <th>0</th>\n",
       "      <td>0</td>\n",
       "      <td>Drowned Wednesday</td>\n",
       "      <td>fantasy</td>\n",
       "      <td>Drowned Wednesday is the first Trustee among ...</td>\n",
       "    </tr>\n",
       "    <tr>\n",
       "      <th>1</th>\n",
       "      <td>1</td>\n",
       "      <td>The Lost Hero</td>\n",
       "      <td>fantasy</td>\n",
       "      <td>As the book opens, Jason awakens on a school ...</td>\n",
       "    </tr>\n",
       "    <tr>\n",
       "      <th>2</th>\n",
       "      <td>2</td>\n",
       "      <td>The Eyes of the Overworld</td>\n",
       "      <td>fantasy</td>\n",
       "      <td>Cugel is easily persuaded by the merchant Fia...</td>\n",
       "    </tr>\n",
       "    <tr>\n",
       "      <th>3</th>\n",
       "      <td>3</td>\n",
       "      <td>Magic's Promise</td>\n",
       "      <td>fantasy</td>\n",
       "      <td>The book opens with Herald-Mage Vanyel return...</td>\n",
       "    </tr>\n",
       "    <tr>\n",
       "      <th>4</th>\n",
       "      <td>4</td>\n",
       "      <td>Taran Wanderer</td>\n",
       "      <td>fantasy</td>\n",
       "      <td>Taran and Gurgi have returned to Caer Dallben...</td>\n",
       "    </tr>\n",
       "  </tbody>\n",
       "</table>\n",
       "</div>"
      ],
      "text/plain": [
       "   index                      title    genre  \\\n",
       "0      0          Drowned Wednesday  fantasy   \n",
       "1      1              The Lost Hero  fantasy   \n",
       "2      2  The Eyes of the Overworld  fantasy   \n",
       "3      3            Magic's Promise  fantasy   \n",
       "4      4             Taran Wanderer  fantasy   \n",
       "\n",
       "                                             summary  \n",
       "0   Drowned Wednesday is the first Trustee among ...  \n",
       "1   As the book opens, Jason awakens on a school ...  \n",
       "2   Cugel is easily persuaded by the merchant Fia...  \n",
       "3   The book opens with Herald-Mage Vanyel return...  \n",
       "4   Taran and Gurgi have returned to Caer Dallben...  "
      ]
     },
     "execution_count": 2,
     "metadata": {},
     "output_type": "execute_result"
    }
   ],
   "source": [
    "df = pd.read_csv(\"data/book_genre_prediction.csv\")\n",
    "df = df.dropna(subset=[\"title\", \"summary\", \"genre\"])\n",
    "df = df.drop_duplicates(subset=[\"title\"])\n",
    "df.head()"
   ]
  },
  {
   "cell_type": "code",
   "execution_count": null,
   "id": "b36f53b7",
   "metadata": {},
   "outputs": [],
   "source": [
    "from sentence_transformers import SentenceTransformer\n",
    "from sklearn.metrics.pairwise import cosine_similarity\n",
    "import os\n",
    "\n",
    "# --- One-Time Setup: Pre-computing Embeddings ---\n",
    "# This part of the script generates the embeddings and saves them to a file.\n",
    "# You only need to run this once, or whenever your dataset changes.\n",
    "\n",
    "def setup():\n",
    "    \"\"\"\n",
    "    Pre-computes and saves book embeddings to a file.\n",
    "    \"\"\"\n",
    "    df = pd.read_csv(\"data/book_genre_prediction.csv\")\n",
    "    df = df[[\"title\", \"summary\", \"genre\"]].dropna()\n",
    "    df.columns = [\"title\", \"summary\", \"genre\"]\n",
    "    df = df.drop_duplicates(subset=[\"title\"]).reset_index(drop=True)\n",
    "\n",
    "    df['combined_text'] = df['title'] + ' - ' + df['summary']\n",
    "\n",
    "    model = SentenceTransformer('all-MiniLM-L6-v2')\n",
    "    print(\"Generating embeddings for all books. This may take a while...\")\n",
    "    \n",
    "    # Split long texts into chunks if necessary (optional optimization)\n",
    "    def split_and_encode(text, max_length=256):\n",
    "        tokens = text.split()\n",
    "        if len(tokens) <= max_length:\n",
    "            return model.encode(text)\n",
    "        chunks = [' '.join(tokens[i:i+max_length]) for i in range(0, len(tokens), max_length)]\n",
    "        embeddings = model.encode(chunks)\n",
    "        return np.mean(embeddings, axis=0)\n",
    "\n",
    "    book_embeddings = np.array([split_and_encode(text) for text in df['combined_text']])"
   ]
  },
  {
   "cell_type": "code",
   "execution_count": 42,
   "id": "d7d36a58",
   "metadata": {},
   "outputs": [
    {
     "name": "stdout",
     "output_type": "stream",
     "text": [
      "First-time setup: generating book embeddings.\n",
      "Generating embeddings for all books. This may take a while...\n"
     ]
    },
    {
     "ename": "KeyboardInterrupt",
     "evalue": "",
     "output_type": "error",
     "traceback": [
      "\u001b[31m---------------------------------------------------------------------------\u001b[39m",
      "\u001b[31mKeyboardInterrupt\u001b[39m                         Traceback (most recent call last)",
      "\u001b[36mCell\u001b[39m\u001b[36m \u001b[39m\u001b[32mIn[42]\u001b[39m\u001b[32m, line 4\u001b[39m\n\u001b[32m      2\u001b[39m \u001b[38;5;28;01mif\u001b[39;00m \u001b[38;5;129;01mnot\u001b[39;00m os.path.exists(\u001b[33m'\u001b[39m\u001b[33mmodels/book_embeddings.npy\u001b[39m\u001b[33m'\u001b[39m):\n\u001b[32m      3\u001b[39m     \u001b[38;5;28mprint\u001b[39m(\u001b[33m\"\u001b[39m\u001b[33mFirst-time setup: generating book embeddings.\u001b[39m\u001b[33m\"\u001b[39m)\n\u001b[32m----> \u001b[39m\u001b[32m4\u001b[39m     \u001b[43msetup\u001b[49m\u001b[43m(\u001b[49m\u001b[43m)\u001b[49m\n",
      "\u001b[36mCell\u001b[39m\u001b[36m \u001b[39m\u001b[32mIn[41]\u001b[39m\u001b[32m, line 34\u001b[39m, in \u001b[36msetup\u001b[39m\u001b[34m()\u001b[39m\n\u001b[32m     31\u001b[39m     embeddings = model.encode(chunks)\n\u001b[32m     32\u001b[39m     \u001b[38;5;28;01mreturn\u001b[39;00m np.mean(embeddings, axis=\u001b[32m0\u001b[39m)\n\u001b[32m---> \u001b[39m\u001b[32m34\u001b[39m book_embeddings = np.array([\u001b[43msplit_and_encode\u001b[49m\u001b[43m(\u001b[49m\u001b[43mtext\u001b[49m\u001b[43m)\u001b[49m \u001b[38;5;28;01mfor\u001b[39;00m text \u001b[38;5;129;01min\u001b[39;00m df[\u001b[33m'\u001b[39m\u001b[33mcombined_text\u001b[39m\u001b[33m'\u001b[39m]])\n",
      "\u001b[36mCell\u001b[39m\u001b[36m \u001b[39m\u001b[32mIn[41]\u001b[39m\u001b[32m, line 29\u001b[39m, in \u001b[36msetup.<locals>.split_and_encode\u001b[39m\u001b[34m(text, max_length)\u001b[39m\n\u001b[32m     27\u001b[39m tokens = text.split()\n\u001b[32m     28\u001b[39m \u001b[38;5;28;01mif\u001b[39;00m \u001b[38;5;28mlen\u001b[39m(tokens) <= max_length:\n\u001b[32m---> \u001b[39m\u001b[32m29\u001b[39m     \u001b[38;5;28;01mreturn\u001b[39;00m \u001b[43mmodel\u001b[49m\u001b[43m.\u001b[49m\u001b[43mencode\u001b[49m\u001b[43m(\u001b[49m\u001b[43mtext\u001b[49m\u001b[43m)\u001b[49m\n\u001b[32m     30\u001b[39m chunks = [\u001b[33m'\u001b[39m\u001b[33m \u001b[39m\u001b[33m'\u001b[39m.join(tokens[i:i+max_length]) \u001b[38;5;28;01mfor\u001b[39;00m i \u001b[38;5;129;01min\u001b[39;00m \u001b[38;5;28mrange\u001b[39m(\u001b[32m0\u001b[39m, \u001b[38;5;28mlen\u001b[39m(tokens), max_length)]\n\u001b[32m     31\u001b[39m embeddings = model.encode(chunks)\n",
      "\u001b[36mFile \u001b[39m\u001b[32mc:\\Users\\silve\\anaconda3\\envs\\nlp-books\\Lib\\site-packages\\sentence_transformers\\SentenceTransformer.py:685\u001b[39m, in \u001b[36mSentenceTransformer.encode\u001b[39m\u001b[34m(self, sentences, prompt_name, prompt, batch_size, show_progress_bar, output_value, precision, convert_to_numpy, convert_to_tensor, device, normalize_embeddings, **kwargs)\u001b[39m\n\u001b[32m    682\u001b[39m features.update(extra_features)\n\u001b[32m    684\u001b[39m \u001b[38;5;28;01mwith\u001b[39;00m torch.no_grad():\n\u001b[32m--> \u001b[39m\u001b[32m685\u001b[39m     out_features = \u001b[38;5;28;43mself\u001b[39;49m\u001b[43m.\u001b[49m\u001b[43mforward\u001b[49m\u001b[43m(\u001b[49m\u001b[43mfeatures\u001b[49m\u001b[43m,\u001b[49m\u001b[43m \u001b[49m\u001b[43m*\u001b[49m\u001b[43m*\u001b[49m\u001b[43mkwargs\u001b[49m\u001b[43m)\u001b[49m\n\u001b[32m    686\u001b[39m     \u001b[38;5;28;01mif\u001b[39;00m \u001b[38;5;28mself\u001b[39m.device.type == \u001b[33m\"\u001b[39m\u001b[33mhpu\u001b[39m\u001b[33m\"\u001b[39m:\n\u001b[32m    687\u001b[39m         out_features = copy.deepcopy(out_features)\n",
      "\u001b[36mFile \u001b[39m\u001b[32mc:\\Users\\silve\\anaconda3\\envs\\nlp-books\\Lib\\site-packages\\sentence_transformers\\SentenceTransformer.py:758\u001b[39m, in \u001b[36mSentenceTransformer.forward\u001b[39m\u001b[34m(self, input, **kwargs)\u001b[39m\n\u001b[32m    756\u001b[39m     module_kwarg_keys = \u001b[38;5;28mself\u001b[39m.module_kwargs.get(module_name, [])\n\u001b[32m    757\u001b[39m     module_kwargs = {key: value \u001b[38;5;28;01mfor\u001b[39;00m key, value \u001b[38;5;129;01min\u001b[39;00m kwargs.items() \u001b[38;5;28;01mif\u001b[39;00m key \u001b[38;5;129;01min\u001b[39;00m module_kwarg_keys}\n\u001b[32m--> \u001b[39m\u001b[32m758\u001b[39m     \u001b[38;5;28minput\u001b[39m = \u001b[43mmodule\u001b[49m\u001b[43m(\u001b[49m\u001b[38;5;28;43minput\u001b[39;49m\u001b[43m,\u001b[49m\u001b[43m \u001b[49m\u001b[43m*\u001b[49m\u001b[43m*\u001b[49m\u001b[43mmodule_kwargs\u001b[49m\u001b[43m)\u001b[49m\n\u001b[32m    759\u001b[39m \u001b[38;5;28;01mreturn\u001b[39;00m \u001b[38;5;28minput\u001b[39m\n",
      "\u001b[36mFile \u001b[39m\u001b[32mc:\\Users\\silve\\anaconda3\\envs\\nlp-books\\Lib\\site-packages\\torch\\nn\\modules\\module.py:1751\u001b[39m, in \u001b[36mModule._wrapped_call_impl\u001b[39m\u001b[34m(self, *args, **kwargs)\u001b[39m\n\u001b[32m   1749\u001b[39m     \u001b[38;5;28;01mreturn\u001b[39;00m \u001b[38;5;28mself\u001b[39m._compiled_call_impl(*args, **kwargs)  \u001b[38;5;66;03m# type: ignore[misc]\u001b[39;00m\n\u001b[32m   1750\u001b[39m \u001b[38;5;28;01melse\u001b[39;00m:\n\u001b[32m-> \u001b[39m\u001b[32m1751\u001b[39m     \u001b[38;5;28;01mreturn\u001b[39;00m \u001b[38;5;28;43mself\u001b[39;49m\u001b[43m.\u001b[49m\u001b[43m_call_impl\u001b[49m\u001b[43m(\u001b[49m\u001b[43m*\u001b[49m\u001b[43margs\u001b[49m\u001b[43m,\u001b[49m\u001b[43m \u001b[49m\u001b[43m*\u001b[49m\u001b[43m*\u001b[49m\u001b[43mkwargs\u001b[49m\u001b[43m)\u001b[49m\n",
      "\u001b[36mFile \u001b[39m\u001b[32mc:\\Users\\silve\\anaconda3\\envs\\nlp-books\\Lib\\site-packages\\torch\\nn\\modules\\module.py:1762\u001b[39m, in \u001b[36mModule._call_impl\u001b[39m\u001b[34m(self, *args, **kwargs)\u001b[39m\n\u001b[32m   1757\u001b[39m \u001b[38;5;66;03m# If we don't have any hooks, we want to skip the rest of the logic in\u001b[39;00m\n\u001b[32m   1758\u001b[39m \u001b[38;5;66;03m# this function, and just call forward.\u001b[39;00m\n\u001b[32m   1759\u001b[39m \u001b[38;5;28;01mif\u001b[39;00m \u001b[38;5;129;01mnot\u001b[39;00m (\u001b[38;5;28mself\u001b[39m._backward_hooks \u001b[38;5;129;01mor\u001b[39;00m \u001b[38;5;28mself\u001b[39m._backward_pre_hooks \u001b[38;5;129;01mor\u001b[39;00m \u001b[38;5;28mself\u001b[39m._forward_hooks \u001b[38;5;129;01mor\u001b[39;00m \u001b[38;5;28mself\u001b[39m._forward_pre_hooks\n\u001b[32m   1760\u001b[39m         \u001b[38;5;129;01mor\u001b[39;00m _global_backward_pre_hooks \u001b[38;5;129;01mor\u001b[39;00m _global_backward_hooks\n\u001b[32m   1761\u001b[39m         \u001b[38;5;129;01mor\u001b[39;00m _global_forward_hooks \u001b[38;5;129;01mor\u001b[39;00m _global_forward_pre_hooks):\n\u001b[32m-> \u001b[39m\u001b[32m1762\u001b[39m     \u001b[38;5;28;01mreturn\u001b[39;00m \u001b[43mforward_call\u001b[49m\u001b[43m(\u001b[49m\u001b[43m*\u001b[49m\u001b[43margs\u001b[49m\u001b[43m,\u001b[49m\u001b[43m \u001b[49m\u001b[43m*\u001b[49m\u001b[43m*\u001b[49m\u001b[43mkwargs\u001b[49m\u001b[43m)\u001b[49m\n\u001b[32m   1764\u001b[39m result = \u001b[38;5;28;01mNone\u001b[39;00m\n\u001b[32m   1765\u001b[39m called_always_called_hooks = \u001b[38;5;28mset\u001b[39m()\n",
      "\u001b[36mFile \u001b[39m\u001b[32mc:\\Users\\silve\\anaconda3\\envs\\nlp-books\\Lib\\site-packages\\sentence_transformers\\models\\Transformer.py:442\u001b[39m, in \u001b[36mTransformer.forward\u001b[39m\u001b[34m(self, features, **kwargs)\u001b[39m\n\u001b[32m    435\u001b[39m \u001b[38;5;250m\u001b[39m\u001b[33;03m\"\"\"Returns token_embeddings, cls_token\"\"\"\u001b[39;00m\n\u001b[32m    436\u001b[39m trans_features = {\n\u001b[32m    437\u001b[39m     key: value\n\u001b[32m    438\u001b[39m     \u001b[38;5;28;01mfor\u001b[39;00m key, value \u001b[38;5;129;01min\u001b[39;00m features.items()\n\u001b[32m    439\u001b[39m     \u001b[38;5;28;01mif\u001b[39;00m key \u001b[38;5;129;01min\u001b[39;00m [\u001b[33m\"\u001b[39m\u001b[33minput_ids\u001b[39m\u001b[33m\"\u001b[39m, \u001b[33m\"\u001b[39m\u001b[33mattention_mask\u001b[39m\u001b[33m\"\u001b[39m, \u001b[33m\"\u001b[39m\u001b[33mtoken_type_ids\u001b[39m\u001b[33m\"\u001b[39m, \u001b[33m\"\u001b[39m\u001b[33minputs_embeds\u001b[39m\u001b[33m\"\u001b[39m]\n\u001b[32m    440\u001b[39m }\n\u001b[32m--> \u001b[39m\u001b[32m442\u001b[39m outputs = \u001b[38;5;28;43mself\u001b[39;49m\u001b[43m.\u001b[49m\u001b[43mauto_model\u001b[49m\u001b[43m(\u001b[49m\u001b[43m*\u001b[49m\u001b[43m*\u001b[49m\u001b[43mtrans_features\u001b[49m\u001b[43m,\u001b[49m\u001b[43m \u001b[49m\u001b[43m*\u001b[49m\u001b[43m*\u001b[49m\u001b[43mkwargs\u001b[49m\u001b[43m,\u001b[49m\u001b[43m \u001b[49m\u001b[43mreturn_dict\u001b[49m\u001b[43m=\u001b[49m\u001b[38;5;28;43;01mTrue\u001b[39;49;00m\u001b[43m)\u001b[49m\n\u001b[32m    443\u001b[39m token_embeddings = outputs[\u001b[32m0\u001b[39m]\n\u001b[32m    444\u001b[39m features[\u001b[33m\"\u001b[39m\u001b[33mtoken_embeddings\u001b[39m\u001b[33m\"\u001b[39m] = token_embeddings\n",
      "\u001b[36mFile \u001b[39m\u001b[32mc:\\Users\\silve\\anaconda3\\envs\\nlp-books\\Lib\\site-packages\\torch\\nn\\modules\\module.py:1751\u001b[39m, in \u001b[36mModule._wrapped_call_impl\u001b[39m\u001b[34m(self, *args, **kwargs)\u001b[39m\n\u001b[32m   1749\u001b[39m     \u001b[38;5;28;01mreturn\u001b[39;00m \u001b[38;5;28mself\u001b[39m._compiled_call_impl(*args, **kwargs)  \u001b[38;5;66;03m# type: ignore[misc]\u001b[39;00m\n\u001b[32m   1750\u001b[39m \u001b[38;5;28;01melse\u001b[39;00m:\n\u001b[32m-> \u001b[39m\u001b[32m1751\u001b[39m     \u001b[38;5;28;01mreturn\u001b[39;00m \u001b[38;5;28;43mself\u001b[39;49m\u001b[43m.\u001b[49m\u001b[43m_call_impl\u001b[49m\u001b[43m(\u001b[49m\u001b[43m*\u001b[49m\u001b[43margs\u001b[49m\u001b[43m,\u001b[49m\u001b[43m \u001b[49m\u001b[43m*\u001b[49m\u001b[43m*\u001b[49m\u001b[43mkwargs\u001b[49m\u001b[43m)\u001b[49m\n",
      "\u001b[36mFile \u001b[39m\u001b[32mc:\\Users\\silve\\anaconda3\\envs\\nlp-books\\Lib\\site-packages\\torch\\nn\\modules\\module.py:1762\u001b[39m, in \u001b[36mModule._call_impl\u001b[39m\u001b[34m(self, *args, **kwargs)\u001b[39m\n\u001b[32m   1757\u001b[39m \u001b[38;5;66;03m# If we don't have any hooks, we want to skip the rest of the logic in\u001b[39;00m\n\u001b[32m   1758\u001b[39m \u001b[38;5;66;03m# this function, and just call forward.\u001b[39;00m\n\u001b[32m   1759\u001b[39m \u001b[38;5;28;01mif\u001b[39;00m \u001b[38;5;129;01mnot\u001b[39;00m (\u001b[38;5;28mself\u001b[39m._backward_hooks \u001b[38;5;129;01mor\u001b[39;00m \u001b[38;5;28mself\u001b[39m._backward_pre_hooks \u001b[38;5;129;01mor\u001b[39;00m \u001b[38;5;28mself\u001b[39m._forward_hooks \u001b[38;5;129;01mor\u001b[39;00m \u001b[38;5;28mself\u001b[39m._forward_pre_hooks\n\u001b[32m   1760\u001b[39m         \u001b[38;5;129;01mor\u001b[39;00m _global_backward_pre_hooks \u001b[38;5;129;01mor\u001b[39;00m _global_backward_hooks\n\u001b[32m   1761\u001b[39m         \u001b[38;5;129;01mor\u001b[39;00m _global_forward_hooks \u001b[38;5;129;01mor\u001b[39;00m _global_forward_pre_hooks):\n\u001b[32m-> \u001b[39m\u001b[32m1762\u001b[39m     \u001b[38;5;28;01mreturn\u001b[39;00m \u001b[43mforward_call\u001b[49m\u001b[43m(\u001b[49m\u001b[43m*\u001b[49m\u001b[43margs\u001b[49m\u001b[43m,\u001b[49m\u001b[43m \u001b[49m\u001b[43m*\u001b[49m\u001b[43m*\u001b[49m\u001b[43mkwargs\u001b[49m\u001b[43m)\u001b[49m\n\u001b[32m   1764\u001b[39m result = \u001b[38;5;28;01mNone\u001b[39;00m\n\u001b[32m   1765\u001b[39m called_always_called_hooks = \u001b[38;5;28mset\u001b[39m()\n",
      "\u001b[36mFile \u001b[39m\u001b[32mc:\\Users\\silve\\anaconda3\\envs\\nlp-books\\Lib\\site-packages\\transformers\\models\\bert\\modeling_bert.py:1016\u001b[39m, in \u001b[36mBertModel.forward\u001b[39m\u001b[34m(self, input_ids, attention_mask, token_type_ids, position_ids, head_mask, inputs_embeds, encoder_hidden_states, encoder_attention_mask, past_key_values, use_cache, output_attentions, output_hidden_states, return_dict)\u001b[39m\n\u001b[32m   1009\u001b[39m \u001b[38;5;66;03m# Prepare head mask if needed\u001b[39;00m\n\u001b[32m   1010\u001b[39m \u001b[38;5;66;03m# 1.0 in head_mask indicate we keep the head\u001b[39;00m\n\u001b[32m   1011\u001b[39m \u001b[38;5;66;03m# attention_probs has shape bsz x n_heads x N x N\u001b[39;00m\n\u001b[32m   1012\u001b[39m \u001b[38;5;66;03m# input head_mask has shape [num_heads] or [num_hidden_layers x num_heads]\u001b[39;00m\n\u001b[32m   1013\u001b[39m \u001b[38;5;66;03m# and head_mask is converted to shape [num_hidden_layers x batch x num_heads x seq_length x seq_length]\u001b[39;00m\n\u001b[32m   1014\u001b[39m head_mask = \u001b[38;5;28mself\u001b[39m.get_head_mask(head_mask, \u001b[38;5;28mself\u001b[39m.config.num_hidden_layers)\n\u001b[32m-> \u001b[39m\u001b[32m1016\u001b[39m encoder_outputs = \u001b[38;5;28;43mself\u001b[39;49m\u001b[43m.\u001b[49m\u001b[43mencoder\u001b[49m\u001b[43m(\u001b[49m\n\u001b[32m   1017\u001b[39m \u001b[43m    \u001b[49m\u001b[43membedding_output\u001b[49m\u001b[43m,\u001b[49m\n\u001b[32m   1018\u001b[39m \u001b[43m    \u001b[49m\u001b[43mattention_mask\u001b[49m\u001b[43m=\u001b[49m\u001b[43mextended_attention_mask\u001b[49m\u001b[43m,\u001b[49m\n\u001b[32m   1019\u001b[39m \u001b[43m    \u001b[49m\u001b[43mhead_mask\u001b[49m\u001b[43m=\u001b[49m\u001b[43mhead_mask\u001b[49m\u001b[43m,\u001b[49m\n\u001b[32m   1020\u001b[39m \u001b[43m    \u001b[49m\u001b[43mencoder_hidden_states\u001b[49m\u001b[43m=\u001b[49m\u001b[43mencoder_hidden_states\u001b[49m\u001b[43m,\u001b[49m\n\u001b[32m   1021\u001b[39m \u001b[43m    \u001b[49m\u001b[43mencoder_attention_mask\u001b[49m\u001b[43m=\u001b[49m\u001b[43mencoder_extended_attention_mask\u001b[49m\u001b[43m,\u001b[49m\n\u001b[32m   1022\u001b[39m \u001b[43m    \u001b[49m\u001b[43mpast_key_values\u001b[49m\u001b[43m=\u001b[49m\u001b[43mpast_key_values\u001b[49m\u001b[43m,\u001b[49m\n\u001b[32m   1023\u001b[39m \u001b[43m    \u001b[49m\u001b[43muse_cache\u001b[49m\u001b[43m=\u001b[49m\u001b[43muse_cache\u001b[49m\u001b[43m,\u001b[49m\n\u001b[32m   1024\u001b[39m \u001b[43m    \u001b[49m\u001b[43moutput_attentions\u001b[49m\u001b[43m=\u001b[49m\u001b[43moutput_attentions\u001b[49m\u001b[43m,\u001b[49m\n\u001b[32m   1025\u001b[39m \u001b[43m    \u001b[49m\u001b[43moutput_hidden_states\u001b[49m\u001b[43m=\u001b[49m\u001b[43moutput_hidden_states\u001b[49m\u001b[43m,\u001b[49m\n\u001b[32m   1026\u001b[39m \u001b[43m    \u001b[49m\u001b[43mreturn_dict\u001b[49m\u001b[43m=\u001b[49m\u001b[43mreturn_dict\u001b[49m\u001b[43m,\u001b[49m\n\u001b[32m   1027\u001b[39m \u001b[43m\u001b[49m\u001b[43m)\u001b[49m\n\u001b[32m   1028\u001b[39m sequence_output = encoder_outputs[\u001b[32m0\u001b[39m]\n\u001b[32m   1029\u001b[39m pooled_output = \u001b[38;5;28mself\u001b[39m.pooler(sequence_output) \u001b[38;5;28;01mif\u001b[39;00m \u001b[38;5;28mself\u001b[39m.pooler \u001b[38;5;129;01mis\u001b[39;00m \u001b[38;5;129;01mnot\u001b[39;00m \u001b[38;5;28;01mNone\u001b[39;00m \u001b[38;5;28;01melse\u001b[39;00m \u001b[38;5;28;01mNone\u001b[39;00m\n",
      "\u001b[36mFile \u001b[39m\u001b[32mc:\\Users\\silve\\anaconda3\\envs\\nlp-books\\Lib\\site-packages\\torch\\nn\\modules\\module.py:1751\u001b[39m, in \u001b[36mModule._wrapped_call_impl\u001b[39m\u001b[34m(self, *args, **kwargs)\u001b[39m\n\u001b[32m   1749\u001b[39m     \u001b[38;5;28;01mreturn\u001b[39;00m \u001b[38;5;28mself\u001b[39m._compiled_call_impl(*args, **kwargs)  \u001b[38;5;66;03m# type: ignore[misc]\u001b[39;00m\n\u001b[32m   1750\u001b[39m \u001b[38;5;28;01melse\u001b[39;00m:\n\u001b[32m-> \u001b[39m\u001b[32m1751\u001b[39m     \u001b[38;5;28;01mreturn\u001b[39;00m \u001b[38;5;28;43mself\u001b[39;49m\u001b[43m.\u001b[49m\u001b[43m_call_impl\u001b[49m\u001b[43m(\u001b[49m\u001b[43m*\u001b[49m\u001b[43margs\u001b[49m\u001b[43m,\u001b[49m\u001b[43m \u001b[49m\u001b[43m*\u001b[49m\u001b[43m*\u001b[49m\u001b[43mkwargs\u001b[49m\u001b[43m)\u001b[49m\n",
      "\u001b[36mFile \u001b[39m\u001b[32mc:\\Users\\silve\\anaconda3\\envs\\nlp-books\\Lib\\site-packages\\torch\\nn\\modules\\module.py:1762\u001b[39m, in \u001b[36mModule._call_impl\u001b[39m\u001b[34m(self, *args, **kwargs)\u001b[39m\n\u001b[32m   1757\u001b[39m \u001b[38;5;66;03m# If we don't have any hooks, we want to skip the rest of the logic in\u001b[39;00m\n\u001b[32m   1758\u001b[39m \u001b[38;5;66;03m# this function, and just call forward.\u001b[39;00m\n\u001b[32m   1759\u001b[39m \u001b[38;5;28;01mif\u001b[39;00m \u001b[38;5;129;01mnot\u001b[39;00m (\u001b[38;5;28mself\u001b[39m._backward_hooks \u001b[38;5;129;01mor\u001b[39;00m \u001b[38;5;28mself\u001b[39m._backward_pre_hooks \u001b[38;5;129;01mor\u001b[39;00m \u001b[38;5;28mself\u001b[39m._forward_hooks \u001b[38;5;129;01mor\u001b[39;00m \u001b[38;5;28mself\u001b[39m._forward_pre_hooks\n\u001b[32m   1760\u001b[39m         \u001b[38;5;129;01mor\u001b[39;00m _global_backward_pre_hooks \u001b[38;5;129;01mor\u001b[39;00m _global_backward_hooks\n\u001b[32m   1761\u001b[39m         \u001b[38;5;129;01mor\u001b[39;00m _global_forward_hooks \u001b[38;5;129;01mor\u001b[39;00m _global_forward_pre_hooks):\n\u001b[32m-> \u001b[39m\u001b[32m1762\u001b[39m     \u001b[38;5;28;01mreturn\u001b[39;00m \u001b[43mforward_call\u001b[49m\u001b[43m(\u001b[49m\u001b[43m*\u001b[49m\u001b[43margs\u001b[49m\u001b[43m,\u001b[49m\u001b[43m \u001b[49m\u001b[43m*\u001b[49m\u001b[43m*\u001b[49m\u001b[43mkwargs\u001b[49m\u001b[43m)\u001b[49m\n\u001b[32m   1764\u001b[39m result = \u001b[38;5;28;01mNone\u001b[39;00m\n\u001b[32m   1765\u001b[39m called_always_called_hooks = \u001b[38;5;28mset\u001b[39m()\n",
      "\u001b[36mFile \u001b[39m\u001b[32mc:\\Users\\silve\\anaconda3\\envs\\nlp-books\\Lib\\site-packages\\transformers\\models\\bert\\modeling_bert.py:662\u001b[39m, in \u001b[36mBertEncoder.forward\u001b[39m\u001b[34m(self, hidden_states, attention_mask, head_mask, encoder_hidden_states, encoder_attention_mask, past_key_values, use_cache, output_attentions, output_hidden_states, return_dict)\u001b[39m\n\u001b[32m    651\u001b[39m     layer_outputs = \u001b[38;5;28mself\u001b[39m._gradient_checkpointing_func(\n\u001b[32m    652\u001b[39m         layer_module.\u001b[34m__call__\u001b[39m,\n\u001b[32m    653\u001b[39m         hidden_states,\n\u001b[32m   (...)\u001b[39m\u001b[32m    659\u001b[39m         output_attentions,\n\u001b[32m    660\u001b[39m     )\n\u001b[32m    661\u001b[39m \u001b[38;5;28;01melse\u001b[39;00m:\n\u001b[32m--> \u001b[39m\u001b[32m662\u001b[39m     layer_outputs = \u001b[43mlayer_module\u001b[49m\u001b[43m(\u001b[49m\n\u001b[32m    663\u001b[39m \u001b[43m        \u001b[49m\u001b[43mhidden_states\u001b[49m\u001b[43m,\u001b[49m\n\u001b[32m    664\u001b[39m \u001b[43m        \u001b[49m\u001b[43mattention_mask\u001b[49m\u001b[43m,\u001b[49m\n\u001b[32m    665\u001b[39m \u001b[43m        \u001b[49m\u001b[43mlayer_head_mask\u001b[49m\u001b[43m,\u001b[49m\n\u001b[32m    666\u001b[39m \u001b[43m        \u001b[49m\u001b[43mencoder_hidden_states\u001b[49m\u001b[43m,\u001b[49m\n\u001b[32m    667\u001b[39m \u001b[43m        \u001b[49m\u001b[43mencoder_attention_mask\u001b[49m\u001b[43m,\u001b[49m\n\u001b[32m    668\u001b[39m \u001b[43m        \u001b[49m\u001b[43mpast_key_value\u001b[49m\u001b[43m,\u001b[49m\n\u001b[32m    669\u001b[39m \u001b[43m        \u001b[49m\u001b[43moutput_attentions\u001b[49m\u001b[43m,\u001b[49m\n\u001b[32m    670\u001b[39m \u001b[43m    \u001b[49m\u001b[43m)\u001b[49m\n\u001b[32m    672\u001b[39m hidden_states = layer_outputs[\u001b[32m0\u001b[39m]\n\u001b[32m    673\u001b[39m \u001b[38;5;28;01mif\u001b[39;00m use_cache:\n",
      "\u001b[36mFile \u001b[39m\u001b[32mc:\\Users\\silve\\anaconda3\\envs\\nlp-books\\Lib\\site-packages\\torch\\nn\\modules\\module.py:1751\u001b[39m, in \u001b[36mModule._wrapped_call_impl\u001b[39m\u001b[34m(self, *args, **kwargs)\u001b[39m\n\u001b[32m   1749\u001b[39m     \u001b[38;5;28;01mreturn\u001b[39;00m \u001b[38;5;28mself\u001b[39m._compiled_call_impl(*args, **kwargs)  \u001b[38;5;66;03m# type: ignore[misc]\u001b[39;00m\n\u001b[32m   1750\u001b[39m \u001b[38;5;28;01melse\u001b[39;00m:\n\u001b[32m-> \u001b[39m\u001b[32m1751\u001b[39m     \u001b[38;5;28;01mreturn\u001b[39;00m \u001b[38;5;28;43mself\u001b[39;49m\u001b[43m.\u001b[49m\u001b[43m_call_impl\u001b[49m\u001b[43m(\u001b[49m\u001b[43m*\u001b[49m\u001b[43margs\u001b[49m\u001b[43m,\u001b[49m\u001b[43m \u001b[49m\u001b[43m*\u001b[49m\u001b[43m*\u001b[49m\u001b[43mkwargs\u001b[49m\u001b[43m)\u001b[49m\n",
      "\u001b[36mFile \u001b[39m\u001b[32mc:\\Users\\silve\\anaconda3\\envs\\nlp-books\\Lib\\site-packages\\torch\\nn\\modules\\module.py:1762\u001b[39m, in \u001b[36mModule._call_impl\u001b[39m\u001b[34m(self, *args, **kwargs)\u001b[39m\n\u001b[32m   1757\u001b[39m \u001b[38;5;66;03m# If we don't have any hooks, we want to skip the rest of the logic in\u001b[39;00m\n\u001b[32m   1758\u001b[39m \u001b[38;5;66;03m# this function, and just call forward.\u001b[39;00m\n\u001b[32m   1759\u001b[39m \u001b[38;5;28;01mif\u001b[39;00m \u001b[38;5;129;01mnot\u001b[39;00m (\u001b[38;5;28mself\u001b[39m._backward_hooks \u001b[38;5;129;01mor\u001b[39;00m \u001b[38;5;28mself\u001b[39m._backward_pre_hooks \u001b[38;5;129;01mor\u001b[39;00m \u001b[38;5;28mself\u001b[39m._forward_hooks \u001b[38;5;129;01mor\u001b[39;00m \u001b[38;5;28mself\u001b[39m._forward_pre_hooks\n\u001b[32m   1760\u001b[39m         \u001b[38;5;129;01mor\u001b[39;00m _global_backward_pre_hooks \u001b[38;5;129;01mor\u001b[39;00m _global_backward_hooks\n\u001b[32m   1761\u001b[39m         \u001b[38;5;129;01mor\u001b[39;00m _global_forward_hooks \u001b[38;5;129;01mor\u001b[39;00m _global_forward_pre_hooks):\n\u001b[32m-> \u001b[39m\u001b[32m1762\u001b[39m     \u001b[38;5;28;01mreturn\u001b[39;00m \u001b[43mforward_call\u001b[49m\u001b[43m(\u001b[49m\u001b[43m*\u001b[49m\u001b[43margs\u001b[49m\u001b[43m,\u001b[49m\u001b[43m \u001b[49m\u001b[43m*\u001b[49m\u001b[43m*\u001b[49m\u001b[43mkwargs\u001b[49m\u001b[43m)\u001b[49m\n\u001b[32m   1764\u001b[39m result = \u001b[38;5;28;01mNone\u001b[39;00m\n\u001b[32m   1765\u001b[39m called_always_called_hooks = \u001b[38;5;28mset\u001b[39m()\n",
      "\u001b[36mFile \u001b[39m\u001b[32mc:\\Users\\silve\\anaconda3\\envs\\nlp-books\\Lib\\site-packages\\transformers\\models\\bert\\modeling_bert.py:594\u001b[39m, in \u001b[36mBertLayer.forward\u001b[39m\u001b[34m(self, hidden_states, attention_mask, head_mask, encoder_hidden_states, encoder_attention_mask, past_key_value, output_attentions)\u001b[39m\n\u001b[32m    591\u001b[39m     cross_attn_present_key_value = cross_attention_outputs[-\u001b[32m1\u001b[39m]\n\u001b[32m    592\u001b[39m     present_key_value = present_key_value + cross_attn_present_key_value\n\u001b[32m--> \u001b[39m\u001b[32m594\u001b[39m layer_output = \u001b[43mapply_chunking_to_forward\u001b[49m\u001b[43m(\u001b[49m\n\u001b[32m    595\u001b[39m \u001b[43m    \u001b[49m\u001b[38;5;28;43mself\u001b[39;49m\u001b[43m.\u001b[49m\u001b[43mfeed_forward_chunk\u001b[49m\u001b[43m,\u001b[49m\u001b[43m \u001b[49m\u001b[38;5;28;43mself\u001b[39;49m\u001b[43m.\u001b[49m\u001b[43mchunk_size_feed_forward\u001b[49m\u001b[43m,\u001b[49m\u001b[43m \u001b[49m\u001b[38;5;28;43mself\u001b[39;49m\u001b[43m.\u001b[49m\u001b[43mseq_len_dim\u001b[49m\u001b[43m,\u001b[49m\u001b[43m \u001b[49m\u001b[43mattention_output\u001b[49m\n\u001b[32m    596\u001b[39m \u001b[43m\u001b[49m\u001b[43m)\u001b[49m\n\u001b[32m    597\u001b[39m outputs = (layer_output,) + outputs\n\u001b[32m    599\u001b[39m \u001b[38;5;66;03m# if decoder, return the attn key/values as the last output\u001b[39;00m\n",
      "\u001b[36mFile \u001b[39m\u001b[32mc:\\Users\\silve\\anaconda3\\envs\\nlp-books\\Lib\\site-packages\\transformers\\pytorch_utils.py:253\u001b[39m, in \u001b[36mapply_chunking_to_forward\u001b[39m\u001b[34m(forward_fn, chunk_size, chunk_dim, *input_tensors)\u001b[39m\n\u001b[32m    250\u001b[39m     \u001b[38;5;66;03m# concatenate output at same dimension\u001b[39;00m\n\u001b[32m    251\u001b[39m     \u001b[38;5;28;01mreturn\u001b[39;00m torch.cat(output_chunks, dim=chunk_dim)\n\u001b[32m--> \u001b[39m\u001b[32m253\u001b[39m \u001b[38;5;28;01mreturn\u001b[39;00m \u001b[43mforward_fn\u001b[49m\u001b[43m(\u001b[49m\u001b[43m*\u001b[49m\u001b[43minput_tensors\u001b[49m\u001b[43m)\u001b[49m\n",
      "\u001b[36mFile \u001b[39m\u001b[32mc:\\Users\\silve\\anaconda3\\envs\\nlp-books\\Lib\\site-packages\\transformers\\models\\bert\\modeling_bert.py:606\u001b[39m, in \u001b[36mBertLayer.feed_forward_chunk\u001b[39m\u001b[34m(self, attention_output)\u001b[39m\n\u001b[32m    605\u001b[39m \u001b[38;5;28;01mdef\u001b[39;00m\u001b[38;5;250m \u001b[39m\u001b[34mfeed_forward_chunk\u001b[39m(\u001b[38;5;28mself\u001b[39m, attention_output):\n\u001b[32m--> \u001b[39m\u001b[32m606\u001b[39m     intermediate_output = \u001b[38;5;28;43mself\u001b[39;49m\u001b[43m.\u001b[49m\u001b[43mintermediate\u001b[49m\u001b[43m(\u001b[49m\u001b[43mattention_output\u001b[49m\u001b[43m)\u001b[49m\n\u001b[32m    607\u001b[39m     layer_output = \u001b[38;5;28mself\u001b[39m.output(intermediate_output, attention_output)\n\u001b[32m    608\u001b[39m     \u001b[38;5;28;01mreturn\u001b[39;00m layer_output\n",
      "\u001b[36mFile \u001b[39m\u001b[32mc:\\Users\\silve\\anaconda3\\envs\\nlp-books\\Lib\\site-packages\\torch\\nn\\modules\\module.py:1751\u001b[39m, in \u001b[36mModule._wrapped_call_impl\u001b[39m\u001b[34m(self, *args, **kwargs)\u001b[39m\n\u001b[32m   1749\u001b[39m     \u001b[38;5;28;01mreturn\u001b[39;00m \u001b[38;5;28mself\u001b[39m._compiled_call_impl(*args, **kwargs)  \u001b[38;5;66;03m# type: ignore[misc]\u001b[39;00m\n\u001b[32m   1750\u001b[39m \u001b[38;5;28;01melse\u001b[39;00m:\n\u001b[32m-> \u001b[39m\u001b[32m1751\u001b[39m     \u001b[38;5;28;01mreturn\u001b[39;00m \u001b[38;5;28;43mself\u001b[39;49m\u001b[43m.\u001b[49m\u001b[43m_call_impl\u001b[49m\u001b[43m(\u001b[49m\u001b[43m*\u001b[49m\u001b[43margs\u001b[49m\u001b[43m,\u001b[49m\u001b[43m \u001b[49m\u001b[43m*\u001b[49m\u001b[43m*\u001b[49m\u001b[43mkwargs\u001b[49m\u001b[43m)\u001b[49m\n",
      "\u001b[36mFile \u001b[39m\u001b[32mc:\\Users\\silve\\anaconda3\\envs\\nlp-books\\Lib\\site-packages\\torch\\nn\\modules\\module.py:1762\u001b[39m, in \u001b[36mModule._call_impl\u001b[39m\u001b[34m(self, *args, **kwargs)\u001b[39m\n\u001b[32m   1757\u001b[39m \u001b[38;5;66;03m# If we don't have any hooks, we want to skip the rest of the logic in\u001b[39;00m\n\u001b[32m   1758\u001b[39m \u001b[38;5;66;03m# this function, and just call forward.\u001b[39;00m\n\u001b[32m   1759\u001b[39m \u001b[38;5;28;01mif\u001b[39;00m \u001b[38;5;129;01mnot\u001b[39;00m (\u001b[38;5;28mself\u001b[39m._backward_hooks \u001b[38;5;129;01mor\u001b[39;00m \u001b[38;5;28mself\u001b[39m._backward_pre_hooks \u001b[38;5;129;01mor\u001b[39;00m \u001b[38;5;28mself\u001b[39m._forward_hooks \u001b[38;5;129;01mor\u001b[39;00m \u001b[38;5;28mself\u001b[39m._forward_pre_hooks\n\u001b[32m   1760\u001b[39m         \u001b[38;5;129;01mor\u001b[39;00m _global_backward_pre_hooks \u001b[38;5;129;01mor\u001b[39;00m _global_backward_hooks\n\u001b[32m   1761\u001b[39m         \u001b[38;5;129;01mor\u001b[39;00m _global_forward_hooks \u001b[38;5;129;01mor\u001b[39;00m _global_forward_pre_hooks):\n\u001b[32m-> \u001b[39m\u001b[32m1762\u001b[39m     \u001b[38;5;28;01mreturn\u001b[39;00m \u001b[43mforward_call\u001b[49m\u001b[43m(\u001b[49m\u001b[43m*\u001b[49m\u001b[43margs\u001b[49m\u001b[43m,\u001b[49m\u001b[43m \u001b[49m\u001b[43m*\u001b[49m\u001b[43m*\u001b[49m\u001b[43mkwargs\u001b[49m\u001b[43m)\u001b[49m\n\u001b[32m   1764\u001b[39m result = \u001b[38;5;28;01mNone\u001b[39;00m\n\u001b[32m   1765\u001b[39m called_always_called_hooks = \u001b[38;5;28mset\u001b[39m()\n",
      "\u001b[36mFile \u001b[39m\u001b[32mc:\\Users\\silve\\anaconda3\\envs\\nlp-books\\Lib\\site-packages\\transformers\\models\\bert\\modeling_bert.py:506\u001b[39m, in \u001b[36mBertIntermediate.forward\u001b[39m\u001b[34m(self, hidden_states)\u001b[39m\n\u001b[32m    505\u001b[39m \u001b[38;5;28;01mdef\u001b[39;00m\u001b[38;5;250m \u001b[39m\u001b[34mforward\u001b[39m(\u001b[38;5;28mself\u001b[39m, hidden_states: torch.Tensor) -> torch.Tensor:\n\u001b[32m--> \u001b[39m\u001b[32m506\u001b[39m     hidden_states = \u001b[38;5;28;43mself\u001b[39;49m\u001b[43m.\u001b[49m\u001b[43mdense\u001b[49m\u001b[43m(\u001b[49m\u001b[43mhidden_states\u001b[49m\u001b[43m)\u001b[49m\n\u001b[32m    507\u001b[39m     hidden_states = \u001b[38;5;28mself\u001b[39m.intermediate_act_fn(hidden_states)\n\u001b[32m    508\u001b[39m     \u001b[38;5;28;01mreturn\u001b[39;00m hidden_states\n",
      "\u001b[36mFile \u001b[39m\u001b[32mc:\\Users\\silve\\anaconda3\\envs\\nlp-books\\Lib\\site-packages\\torch\\nn\\modules\\module.py:1751\u001b[39m, in \u001b[36mModule._wrapped_call_impl\u001b[39m\u001b[34m(self, *args, **kwargs)\u001b[39m\n\u001b[32m   1749\u001b[39m     \u001b[38;5;28;01mreturn\u001b[39;00m \u001b[38;5;28mself\u001b[39m._compiled_call_impl(*args, **kwargs)  \u001b[38;5;66;03m# type: ignore[misc]\u001b[39;00m\n\u001b[32m   1750\u001b[39m \u001b[38;5;28;01melse\u001b[39;00m:\n\u001b[32m-> \u001b[39m\u001b[32m1751\u001b[39m     \u001b[38;5;28;01mreturn\u001b[39;00m \u001b[38;5;28;43mself\u001b[39;49m\u001b[43m.\u001b[49m\u001b[43m_call_impl\u001b[49m\u001b[43m(\u001b[49m\u001b[43m*\u001b[49m\u001b[43margs\u001b[49m\u001b[43m,\u001b[49m\u001b[43m \u001b[49m\u001b[43m*\u001b[49m\u001b[43m*\u001b[49m\u001b[43mkwargs\u001b[49m\u001b[43m)\u001b[49m\n",
      "\u001b[36mFile \u001b[39m\u001b[32mc:\\Users\\silve\\anaconda3\\envs\\nlp-books\\Lib\\site-packages\\torch\\nn\\modules\\module.py:1762\u001b[39m, in \u001b[36mModule._call_impl\u001b[39m\u001b[34m(self, *args, **kwargs)\u001b[39m\n\u001b[32m   1757\u001b[39m \u001b[38;5;66;03m# If we don't have any hooks, we want to skip the rest of the logic in\u001b[39;00m\n\u001b[32m   1758\u001b[39m \u001b[38;5;66;03m# this function, and just call forward.\u001b[39;00m\n\u001b[32m   1759\u001b[39m \u001b[38;5;28;01mif\u001b[39;00m \u001b[38;5;129;01mnot\u001b[39;00m (\u001b[38;5;28mself\u001b[39m._backward_hooks \u001b[38;5;129;01mor\u001b[39;00m \u001b[38;5;28mself\u001b[39m._backward_pre_hooks \u001b[38;5;129;01mor\u001b[39;00m \u001b[38;5;28mself\u001b[39m._forward_hooks \u001b[38;5;129;01mor\u001b[39;00m \u001b[38;5;28mself\u001b[39m._forward_pre_hooks\n\u001b[32m   1760\u001b[39m         \u001b[38;5;129;01mor\u001b[39;00m _global_backward_pre_hooks \u001b[38;5;129;01mor\u001b[39;00m _global_backward_hooks\n\u001b[32m   1761\u001b[39m         \u001b[38;5;129;01mor\u001b[39;00m _global_forward_hooks \u001b[38;5;129;01mor\u001b[39;00m _global_forward_pre_hooks):\n\u001b[32m-> \u001b[39m\u001b[32m1762\u001b[39m     \u001b[38;5;28;01mreturn\u001b[39;00m \u001b[43mforward_call\u001b[49m\u001b[43m(\u001b[49m\u001b[43m*\u001b[49m\u001b[43margs\u001b[49m\u001b[43m,\u001b[49m\u001b[43m \u001b[49m\u001b[43m*\u001b[49m\u001b[43m*\u001b[49m\u001b[43mkwargs\u001b[49m\u001b[43m)\u001b[49m\n\u001b[32m   1764\u001b[39m result = \u001b[38;5;28;01mNone\u001b[39;00m\n\u001b[32m   1765\u001b[39m called_always_called_hooks = \u001b[38;5;28mset\u001b[39m()\n",
      "\u001b[36mFile \u001b[39m\u001b[32mc:\\Users\\silve\\anaconda3\\envs\\nlp-books\\Lib\\site-packages\\torch\\nn\\modules\\linear.py:125\u001b[39m, in \u001b[36mLinear.forward\u001b[39m\u001b[34m(self, input)\u001b[39m\n\u001b[32m    124\u001b[39m \u001b[38;5;28;01mdef\u001b[39;00m\u001b[38;5;250m \u001b[39m\u001b[34mforward\u001b[39m(\u001b[38;5;28mself\u001b[39m, \u001b[38;5;28minput\u001b[39m: Tensor) -> Tensor:\n\u001b[32m--> \u001b[39m\u001b[32m125\u001b[39m     \u001b[38;5;28;01mreturn\u001b[39;00m \u001b[43mF\u001b[49m\u001b[43m.\u001b[49m\u001b[43mlinear\u001b[49m\u001b[43m(\u001b[49m\u001b[38;5;28;43minput\u001b[39;49m\u001b[43m,\u001b[49m\u001b[43m \u001b[49m\u001b[38;5;28;43mself\u001b[39;49m\u001b[43m.\u001b[49m\u001b[43mweight\u001b[49m\u001b[43m,\u001b[49m\u001b[43m \u001b[49m\u001b[38;5;28;43mself\u001b[39;49m\u001b[43m.\u001b[49m\u001b[43mbias\u001b[49m\u001b[43m)\u001b[49m\n",
      "\u001b[31mKeyboardInterrupt\u001b[39m: "
     ]
    }
   ],
   "source": [
    "# Check if the setup has been run, if not, run it.\n",
    "if not os.path.exists('models/book_embeddings.npy'):\n",
    "    print(\"First-time setup: generating book embeddings.\")\n",
    "    setup()"
   ]
  },
  {
   "cell_type": "code",
   "execution_count": 10,
   "id": "020c7728",
   "metadata": {},
   "outputs": [],
   "source": [
    "# Load the pre-computed data and embeddings\n",
    "df = pd.read_csv(\"data/books_data.csv\")\n",
    "book_embeddings = np.load('models/book_embeddings.npy')"
   ]
  },
  {
   "cell_type": "code",
   "execution_count": null,
   "id": "4087f3e1",
   "metadata": {},
   "outputs": [],
   "source": [
    "def recommend_books(book_title, num_recommendations=15):\n",
    "    try:\n",
    "        # Get the index of the book (case-insensitive match)\n",
    "        book_index = df[df['title'].str.lower() == book_title.lower()].index[0]\n",
    "    except IndexError:\n",
    "        print(f\"Book with title '{book_title}' not found in the dataset.\")\n",
    "        return pd.DataFrame(columns=[\"title\", \"summary\"]) # Return empty DataFrame\n",
    "\n",
    "    # Get the embedding of the input book\n",
    "    input_embedding = book_embeddings[book_index].reshape(1, -1)\n",
    "\n",
    "    # Calculate cosine similarity between the input book and all other books\n",
    "    similarities = cosine_similarity(input_embedding, book_embeddings).flatten()\n",
    "\n",
    "    # Get the indices of the most similar books\n",
    "    # We exclude the first one because it will be the book itself\n",
    "    similar_indices = similarities.argsort()[::-1][1:num_recommendations + 1]\n",
    "\n",
    "    return df.iloc[similar_indices][[\"title\", \"summary\"]]"
   ]
  },
  {
   "cell_type": "code",
   "execution_count": 20,
   "id": "1c3134e4",
   "metadata": {},
   "outputs": [
    {
     "data": {
      "application/vnd.microsoft.datawrangler.viewer.v0+json": {
       "columns": [
        {
         "name": "index",
         "rawType": "int64",
         "type": "integer"
        },
        {
         "name": "title",
         "rawType": "object",
         "type": "string"
        },
        {
         "name": "summary",
         "rawType": "object",
         "type": "string"
        }
       ],
       "ref": "7f157af5-2bbc-4c55-b147-1cb6e5971f3e",
       "rows": [
        [
         "521",
         "The Fatal Eggs",
         " The Fatal Eggs can be described as a science fiction novel. Its main protagonist is an aging zoologist, Vladimir Ipat'evich Persikov, a specialist in amphibians. The narration begins in Moscow of 1928, which seems to have overcome the destructive effects of the Russian Civil War and is quite prosperous. After a long period of degradation, research at the Zoological Institute has revived. After leaving his microscope for several hours, Persikov suddenly noticed that the out-of-focus microscope produced a ray of red light; amoeba left under that light showed an impossibly increased rate of binary fission, reproducing at enormous speeds and demonstrating unusual aggression. Later experiments with large cameras — to produce a larger ray — confirmed that the same increased speed of reproduction applied to other organisms, such as frogs, which evolved and produced a next generation within two days. Persikov's invention quickly becomes known to journalists, and eventually to foreign spies and to the GPU, the Soviet secret service. At the same time, the country is affected by an unknown disease in domesticated poultry, which results in a complete extinction of all chickens in the Soviet Russia, with the plague stopping at the borders of the country. An entrepreneur Aleksandr Semenovich Rokk (whose name is also a pun on the novel's title, Rok meaning fate) receives an official permission to use Persikov's invention to attempt to restore the chicken populace to the pre-plague level. However, the chicken eggs which are imported from outside the country are, by a mistake, sent to Persikov's laboratory while the reptile eggs destined for the professor end up in the hands of the farmers. As a result, Rokk breeds an enormous quantity of large and overly aggressive snakes, ostriches, and crocodiles which start attacking people. In the panic that follows, Persikov is killed by a mob — which blames him for the appearance of the snakes — and his cameras are smashed. The Red Army attempts to hold the snakes back, but only the coming of sub-zero weather in August—described as a deus ex machina—puts a stop to the snake invasion. In an earlier draft the novel ends with the scene of Moscow's complete destruction by the snakes."
        ],
        [
         "3056",
         "Bloodlands: Europe Between Hitler and Stalin",
         "Americans call the Second World War “The Good War.” But before it even began, America’s wartime ally Josef Stalin had killed millions of his own citizens—and kept killing them during and after the war. Before Hitler was finally defeated, he had murdered six million Jews and nearly as many other Europeans. At war’s end, both the German and the Soviet killing sites fell behind the iron curtain, leaving the history of mass killing in darkness.\r\nBloodlands is a new kind of European history, presenting the mass murders committed by the Nazi and Stalinist regimes as two aspects of a single history, in the time and place where they occurred: between Germany and Russia, when Hitler and Stalin both held power. Assiduously researched, deeply humane, and utterly definitive, Bloodlands will be required reading for anyone seeking to understand the central tragedy of modern history.\r\n\r\nFrom Booklist\r\nIf there is an explanation for the political killing perpetrated in eastern Europe in the 1930s and 1940s, historian Snyder roots it in agriculture. Stalin wanted to collectivize farmers; Hitler wanted to eliminate them so Germans could colonize the land. The dictators wielded frightening power to advance such fantasies toward reality, and the despots toted up about 14 million corpses between them, so stupefying a figure that Snyder sets himself three goals here: to break down the number into the various actions of murder that comprise it, from liquidation of the kulaks to the final solution; to restore humanity to the victims via surviving testimony to their fates; and to deny Hitler and Stalin any historical justification for their policies, which at the time had legions of supporters and have some even today. Such scope may render Snyder’s project too imposing to casual readers, but it would engage those exposed to the period’s chronology and major interpretive issues, such as the extent to which the Nazi and Soviet systems may be compared. Solid and judicious scholarship for large WWII collections."
        ],
        [
         "3404",
         "1984",
         "Among the seminal texts of the 20th century, Nineteen Eighty-Four is a rare work that grows more haunting as its futuristic purgatory becomes more real. Published in 1949, the book offers political satirist George Orwell's nightmarish vision of a totalitarian, bureaucratic world and one poor stiff's attempt to find individuality. The brilliance of the novel is Orwell's prescience of modern life—the ubiquity of television, the distortion of the language—and his ability to construct such a thorough version of hell. Required reading for students since it was published, it ranks among the most terrifying novels ever written. (less)"
        ],
        [
         "3878",
         "Zoo",
         "Once in a lifetime, a writer puts it all together. This is James Patterson's best book ever.\r\n\r\nTotal\r\nFor 36 years, James Patterson has written unputdownable, pulse-racing novels. Now, he has written a book that surpasses all of them. ZOO is the thriller he was born to write.\r\n\r\nWorld\r\nAll over the world, brutal attacks are crippling entire cities. Jackson Oz, a young biologist, watches the escalating events with an increasing sense of dread. When he witnesses a coordinated lion ambush in Africa, the enormity of the violence to come becomes terrifyingly clear.\r\n\r\nDestruction\r\nWith the help of ecologist Chloe Tousignant, Oz races to warn world leaders before it's too late. The attacks are growing in ferocity, cunning, and planning, and soon there will be no place left for humans to hide. (less)"
        ],
        [
         "3163",
         "The Blank Slate: The Modern Denial of Human Nature",
         "In The Blank Slate, Steven Pinker explores the idea of human nature and its moral, emotional, and political colorings. He shows how many intellectuals have denied the existence of human nature by embracing three linked dogmas: the Blank Slate (the mind has no innate traits), the Noble Savage (people are born good and corrupted by society), and the Ghost in the Machine (each of us has a soul that makes choices free from biology). Each dogma carries a moral burden, so their defenders have engaged in desperate tactics to discredit the scientists who are now challenging them.\r\n\r\nPinker injects calm and rationality into these debates by showing that equality, progress, responsibility, and purpose have nothing to fear from discoveries about a rich human nature. He disarms even the most menacing threats with clear thinking, common sense, and pertinent facts from science and history.\r\n\r\nDespite its popularity among intellectuals during much of the twentieth century, he argues, the doctrine of the Blank Slate may have done more harm than good. It denies our common humanity and our individual preferences, replaces hardheaded analyses of social problems with feel-good slogans, and distorts our understanding of government, violence, parenting, and the arts.\r\n\r\nPinker shows that an acknowledgement of human nature that is grounded in science and common sense, far from being dangerous, can complement insights about the human condition made by millennia of artists and philosophers. All this is done in the style that earned his previous books many prizes and worldwide acclaim: wit, lucidity, and insight into matters great and small."
        ],
        [
         "3000",
         "Homo Deus: A History of Tomorrow",
         "Yuval Noah Harari, author of the critically-acclaimed New York Times bestseller and international phenomenon Sapiens, returns with an equally original, compelling, and provocative book, turning his focus toward humanity’s future, and our quest to upgrade humans into gods.\r\nOver the past century humankind has managed to do the impossible and rein in famine, plague, and war. This may seem hard to accept, but, as Harari explains in his trademark style—thorough, yet riveting—famine, plague and war have been transformed from incomprehensible and uncontrollable forces of nature into manageable challenges. For the first time ever, more people die from eating too much than from eating too little; more people die from old age than from infectious diseases; and more people commit suicide than are killed by soldiers, terrorists and criminals put together. The average American is a thousand times more likely to die from binging at McDonalds than from being blown up by Al Qaeda.\r\nWhat then will replace famine, plague, and war at the top of the human agenda? As the self-made gods of planet earth, what destinies will we set ourselves, and which quests will we undertake? Homo Deus explores the projects, dreams and nightmares that will shape the twenty-first century—from overcoming death to creating artificial life. It asks the fundamental questions: Where do we go from here? And how will we protect this fragile world from our own destructive powers? This is the next stage of evolution. This is Homo Deus.\r\nWith the same insight and clarity that made Sapiens an international hit and a New York Times bestseller, Harari maps out our future."
        ],
        [
         "2001",
         "The Cleansing",
         " The book tells the story of an American Indian wolf god, Wanata, who comes to earth to hold humanity accountable for its abuse of nature. In Alaska, freelance journalist Savannah Channing investigates the story of a rampaging wolf pack that is systematically destroying villages. She arrives to find that the problem is worse than she expected and that the military and a brutal bounty hunter have been employed. Wanata is changed into mortal human form by an Indian Shaman's magic and is forced to interact with those he was sent to punish. The paths of Wanata and Channing cross in a spine-chilling conclusion."
        ],
        [
         "813",
         "Long Voyage Back",
         " : \"In a nuclear war, the USSR will win. This is because the average Russian doesn't have a gun, so they can't all shoot each other and the army for food\" The story concerns a hypothetical World War III between the USSR and the United States, and graphically depicts the ensuing carnage. One family and some friends try to run away in a sailboat, and the story describes their battles with nuclear winter and fallout, and with the ensuing collapse of civilization."
        ],
        [
         "2115",
         "Carnosaur",
         " Set in a rural village in Cambridgeshire, England, the novel opens in a chicken farm which is attacked one night by a mysterious creature, leaving the farmer and his wife dead. A story circulates that the killer was a Siberian Tiger which had escaped the private zoo of an eccentric lord named Darren Penward. A reporter named David Pascal investigates the carnage and notices that the blood stained room where the attack has taken place has been thoroughly cleansed in a seeming attempt at covering the killer's footprints. A few days later, the creature attacks a stable, killing a horse, the keeper and her daughter, leaving one survivor, an 8 year old boy. Pascal arrives at the scene, only to find Penward's men already there, towing a concealed animal with a helicopter. Pascal interviews the boy who reveals that the killer was not a tiger, but a dinosaur. After unsuccessfully trying to interview Penward's men, Pascal moves on to begin a sexual relationship with Penward's nymphomaniac wife, who eventually takes him to her private quarters. From there, Pascal enters the zoo, only to discover that it is filled with dinosaurs. He is captured and given a tour of the establishment. He sees a variety of different species, mostly carnivorous, including the dinosaur that had escaped earlier which is identified as a Deinonychus, a sexually frustrated Megalosaurus and a Tarbosaurus. Penward explains that he recreated the dinosaurs by studying the DNA fragments found in dinosaur fossils, then using them as a basis for restructuring the DNA of chickens. He goes as far as saying that he intends to let his dinosaurs loose in remote areas of the world where they could flourish and eventually spread after what he considers an inevitable Third World War. Pascal is imprisoned, only to be rescued by Lady Penward, but only after promising that he permanently commit to her. As they make their escape, Pascal notices that his ex-girlfriend Jenny Stamper, a reporter herself, has been caught in the act of infiltrating Penwards zoo. Enraged at his insistence on helping her, Lady Penward releases the dinosaurs and other animals present in the zoo. Sir Penward is seriously wounded by an escaped bull and captures his maddened wife. Pascal and Jenny escape to the authorities, but are not believed until reports begin flooding in on mysterious deaths. A pleasure boat is attacked by a Plesiosaurus, a Dilophosaurus kills a Member of Parliament, the Megalosaurus gets run over by a lorry, an Altispinax attacks a herd of cows, a Scolosaurus confronts a FV101 Scorpion, and the Tarbosaurus destroys a pub before invading people's gardens. The British Army is called, and soon many dinosaurs are killed. The next day, Pascal goes to visit Jenny at her home, only to find her badly injured, and her family dead; killed by a Deinonychus which Pascal kills with a pitchfork. Meanwhile, the dying Sir Penward imprisons his wife in a farmhouse, where she is devoured alive by two newly hatched Tyrannosauruses. At the conclusion of the story, aside from the baby Tyrannosaurs, the only other dinosaur left alive is a baby Brachiosaurus."
        ],
        [
         "3036",
         "Stalingrad: The Fateful Siege, 1942–1943",
         "The Battle of Stalingrad was not only the psychological turning point of World War II: it also changed the face of modern warfare. Historians and reviewers worldwide have hailed Antony Beevor's magisterial Stalingrad as the definitive account of World War II's most harrowing battle.\r\n\r\nIn August 1942, Hitler's huge Sixth Army reached the city that bore Stalin's name. In the five-month siege that followed, the Russians fought to hold Stalingrad at any cost; then, in an astonishing reversal, encircled and trapped their Nazi enemy. This battle for the ruins of a city cost more than a million lives. Stalingrad conveys the experience of soldiers on both sides, fighting in inhuman conditions, and of civilians trapped on an urban battlefield. Antony Beevor has interviewed survivors and discovered completely new material in a wide range of German and Soviet archives, including prisoner interrogations and reports of desertions and executions. As a story of cruelty, courage, and human suffering, Stalingrad is unprecedented and unforgettable."
        ],
        [
         "770",
         "The Food of the Gods and How It Came to Earth",
         " The Food of the Gods is divided into three \"books\": \"Book I: The Discovery of the Food\"; \"Book II: The Food in the Village\"; and \"Book III: The Harvest of the Food.\" Book I begins with satirical remarks on \"scientists,\" then introduces Mr. Bensington, a research chemist specializing in \"the More Toxic Alkaloids,\" and Professor Redwood, who after studying reaction times takes an interest in \"Growth.\" Redwood's suggestion \"that the process of growth probably demanded the presence of a considerable quantity of some necessary substance in the blood that was only formed very slowly\" causes Bensington to begin searching for such a substance. After a year of research and experiment, he finds a way to make what he calls in his initial enthusiasm \"the Food of the Gods,\" but later more soberly dubs Herakleophorbia IV. Their first experimental success is with chickens that grow to about six times normal size on an experimental farm at Hickleybrow, near Urshot in Kent (where H.G. Wells was born and raised). Unfortunately Mr. and Mrs. Skinner, the slovenly couple hired to feed and monitor the chickens, allow Herakleophorbia IV to enter the local food chain, and the other creatures that get the food grow to six or seven times their normal size: not only plants, but also wasps, earwigs, and rats. The chickens escape, overrunning a nearby town. Bensington and Redwood, impractical researchers, do nothing until a decisive and efficient \"well-known civil engineer\" of their acquaintance named Cossar arrives to organize a party of eight to (\"Obviously!\") destroy the wasps' nest, hunt down the monstrous vermin, and burn the experimental farm to the ground. As debate ensues about the substance, popularly known as \"Boomfood,\" children are being given the substance and grow to enormous size: Redwood's son (\"pioneer of the new race\"), Cossar's three sons, and Mrs. Skinner's grandson, Caddles. A certain Dr. Winkles makes the substance available to a princess, and there are other giants as well. These massive offspring eventually reach about 40 feet in height. At first the giants are tolerated, but as they grow more and more restrictions are imposed. With time most of the English population comes to resent the young giants as well as changes to flora, fauna, and the organization of society that become more extensive with each passing year. Bensington is nearly lynched by an angry mob, and subsequently retires from active life to Mount Glory Hydrotherapeutic Hotel. Book II offers an account the development of Mrs. Skinner's grandson, Albert Edward Caddles, as an epitome of \"the coming of Bigness in the world.\" Wells takes the occasion to satirize the conservative rural gentry (Lady Wondershoot) and Church of England clergy (the Vicar of Cheasing Eyebright) in describing life in a backward little village. Book III begins with a chapter entitled \"The Altered World\" that dramatizes how life has changed by portraying the shocked reaction of a Rip van Winkle-like character released from prison after being incarcerated for twenty years. British society has learned to cope with occasional outbreaks of giant pests (mosquitoes, spiders, rats, etc.), but the coming to maturity of the giant children brings a reactionary politician, Caterham, into power. Caterham has been promoting a program to destroy the Food of the Gods and hinting that he will suppress the giants, and now begins to execute his plan. By coincidence, it is just at this moment that Caddles rebels against spending his life working in a chalk pit and sets out to see the world. In London he is surrounded by thousands of tiny people and confused by everything he sees. He demands to know what it's all for and where he fits in, but no one can answer his questions; after refusing to return to his chalk pit, Caddles is shot and killed by the police. The conclusion of the novel features a tenderly described romance between the young giant Redwood and the unnamed princess. Their love blossoms just as Caterham, who has at last attained a position of power, launches an effort to suppress the giants. But after two days of fighting, the giants, who have taken refuge in an enormous pit, have held their own. Their bombardment of London with shells containing large quantities of Herakleophorbia IV forces Caterham to call a truce. The British leader is satirized as a demagogue, a \"vote-monster\" for whom nothing but \"gatherings, and caucuses, and votes &mdash; above all votes\" are real. Caterham employs Redwood père as an envoy to send a proposed settlement whose terms would demand that the giants live apart somewhere and forgo the right to reproduce. The offer is indignantly rejected at a meeting of the giants, where one of Cossar's sons expresses a belief in growth as part of the law of life: \"We fight for not for ourselves but for growth, growth that goes on for ever. To-morrow, whether we live or die, growth will conquer through us. That is the law of the spirit for evermore. To grow according to the will of God!\" The novel concludes with the world on the verge of a long struggle between the \"little people\" and the Children of the Food, whose ultimate victory is perhaps suggested by the novel's final image: \"For one instant [a son of Cossar] shone, looking up fearlessly into the starry deeps, mail-clad, young and strong, resolute and still. Then the light had passed and he was no more than a great black outline against the starry sky, a great black outline that threatened with one mighty gesture the firmament of heaven and all its multitude of stars.\""
        ],
        [
         "2970",
         "Sapiens: A Brief History of Humankind",
         "100,000 years ago, at least six human species inhabited the earth. Today there is just one. Us. Homo sapiens.\r\n\r\nHow did our species succeed in the battle for dominance? Why did our foraging ancestors come together to create cities and kingdoms? How did we come to believe in gods, nations and human rights; to trust money, books and laws; and to be enslaved by bureaucracy, timetables and consumerism? And what will our world be like in the millennia to come?\r\n\r\nIn Sapiens, Dr Yuval Noah Harari spans the whole of human history, from the very first humans to walk the earth to the radical – and sometimes devastating – breakthroughs of the Cognitive, Agricultural and Scientific Revolutions. Drawing on insights from biology, anthropology, paleontology and economics, he explores how the currents of history have shaped our human societies, the animals and plants around us, and even our personalities. Have we become happier as history has unfolded? Can we ever free our behaviour from the heritage of our ancestors? And what, if anything, can we do to influence the course of the centuries to come?\r\n\r\nBold, wide-ranging and provocative, Sapiens challenges everything we thought we knew about being human: our thoughts, our actions, our power ... and our future."
        ],
        [
         "3328",
         "The Origin of Species",
         "Darwin's theory of natural selection issued a profound challenge to orthodox thought and belief: no being or species has been specifically created; all are locked into a pitiless struggle for existence, with extinction looming for those not fitted for the task.\r\n\r\nYet The Origin of Species (1859) is also a humane and inspirational vision of ecological interrelatedness, revealing the complex mutual interdependencies between animal and plant life, climate and physical environment, and—by implication—within the human world.\r\n\r\nWritten for the general reader, in a style which combines the rigour of science with the subtlety of literature, remains one of the founding documents of the modern age.\r\nMore book description"
        ],
        [
         "3957",
         "Travels in Siberia",
         "In his astonishing new work, Ian Frazier, one of our greatest and most entertaining storytellers, trains his perceptive, generous eye on Siberia, the storied expanse of Asiatic Russia whose grim renown is but one explanation among hundreds for the region's fascinating, enduring appeal. In Travels in Siberia, Frazier reveals Siberia's role in history--its science, economics, and politics--with great passion and enthusiasm, ensuring that we'll never think about it in the same way again.\r\nWith great empathy and epic sweep, Frazier tells the stories of Siberia's most famous exiles, from the well-known--Dostoyevsky, Lenin (twice), Stalin (numerous times)--to the lesser known (like Natalie Lopukhin, banished by the empress for copying her dresses) to those who experienced unimaginable suffering in Siberian camps under the Soviet regime, forever immortalized by Aleksandr Solzhenitsyn in The Gulag Archipelago.\r\nTravels in Siberia is also a unique chronicle of Russia since the end of the Soviet Union, a personal account of adventures among Russian friends and acquaintances, and, above all, a unique, captivating, totally Frazierian take on what he calls the \"amazingness\" of Russia--a country that, for all its tragic history, somehow still manages to be funny. Travels in Siberia will undoubtedly take its place as one of the twenty-first century's indispensable contributions to the travel-writing genre."
        ],
        [
         "3034",
         "The Gulag Archipelago 1918–1956",
         "Drawing on his own incarceration and exile, as well as on evidence from more than 200 fellow prisoners and Soviet archives, Aleksandr I. Solzhenitsyn reveals the entire apparatus of Soviet repression—the state within the state that ruled all-powerfully. Through truly Shakespearean portraits of its victims—men, women, and children—we encounter secret police operations, labor camps and prisons; the uprooting or extermination of whole populations, the welcome that awaited Russian soldiers who had been German prisoners of war. Yet we also witness the astounding moral courage of the incorruptible, who, defenseless, endured great brutality and degradation. The Gulag Archipelago 1918–1956—a grisly indictment of a regime, fashioned here into a veritable literary miracle—has now been updated with a new introduction that includes the fall of the Soviet Union and Solzhenitsyn's move back to Russia."
        ]
       ],
       "shape": {
        "columns": 2,
        "rows": 15
       }
      },
      "text/html": [
       "<div>\n",
       "<style scoped>\n",
       "    .dataframe tbody tr th:only-of-type {\n",
       "        vertical-align: middle;\n",
       "    }\n",
       "\n",
       "    .dataframe tbody tr th {\n",
       "        vertical-align: top;\n",
       "    }\n",
       "\n",
       "    .dataframe thead th {\n",
       "        text-align: right;\n",
       "    }\n",
       "</style>\n",
       "<table border=\"1\" class=\"dataframe\">\n",
       "  <thead>\n",
       "    <tr style=\"text-align: right;\">\n",
       "      <th></th>\n",
       "      <th>title</th>\n",
       "      <th>summary</th>\n",
       "    </tr>\n",
       "  </thead>\n",
       "  <tbody>\n",
       "    <tr>\n",
       "      <th>521</th>\n",
       "      <td>The Fatal Eggs</td>\n",
       "      <td>The Fatal Eggs can be described as a science ...</td>\n",
       "    </tr>\n",
       "    <tr>\n",
       "      <th>3056</th>\n",
       "      <td>Bloodlands: Europe Between Hitler and Stalin</td>\n",
       "      <td>Americans call the Second World War “The Good ...</td>\n",
       "    </tr>\n",
       "    <tr>\n",
       "      <th>3404</th>\n",
       "      <td>1984</td>\n",
       "      <td>Among the seminal texts of the 20th century, N...</td>\n",
       "    </tr>\n",
       "    <tr>\n",
       "      <th>3878</th>\n",
       "      <td>Zoo</td>\n",
       "      <td>Once in a lifetime, a writer puts it all toget...</td>\n",
       "    </tr>\n",
       "    <tr>\n",
       "      <th>3163</th>\n",
       "      <td>The Blank Slate: The Modern Denial of Human Na...</td>\n",
       "      <td>In The Blank Slate, Steven Pinker explores the...</td>\n",
       "    </tr>\n",
       "    <tr>\n",
       "      <th>3000</th>\n",
       "      <td>Homo Deus: A History of Tomorrow</td>\n",
       "      <td>Yuval Noah Harari, author of the critically-ac...</td>\n",
       "    </tr>\n",
       "    <tr>\n",
       "      <th>2001</th>\n",
       "      <td>The Cleansing</td>\n",
       "      <td>The book tells the story of an American India...</td>\n",
       "    </tr>\n",
       "    <tr>\n",
       "      <th>813</th>\n",
       "      <td>Long Voyage Back</td>\n",
       "      <td>: \"In a nuclear war, the USSR will win. This ...</td>\n",
       "    </tr>\n",
       "    <tr>\n",
       "      <th>2115</th>\n",
       "      <td>Carnosaur</td>\n",
       "      <td>Set in a rural village in Cambridgeshire, Eng...</td>\n",
       "    </tr>\n",
       "    <tr>\n",
       "      <th>3036</th>\n",
       "      <td>Stalingrad: The Fateful Siege, 1942–1943</td>\n",
       "      <td>The Battle of Stalingrad was not only the psyc...</td>\n",
       "    </tr>\n",
       "    <tr>\n",
       "      <th>770</th>\n",
       "      <td>The Food of the Gods and How It Came to Earth</td>\n",
       "      <td>The Food of the Gods is divided into three \"b...</td>\n",
       "    </tr>\n",
       "    <tr>\n",
       "      <th>2970</th>\n",
       "      <td>Sapiens: A Brief History of Humankind</td>\n",
       "      <td>100,000 years ago, at least six human species ...</td>\n",
       "    </tr>\n",
       "    <tr>\n",
       "      <th>3328</th>\n",
       "      <td>The Origin of Species</td>\n",
       "      <td>Darwin's theory of natural selection issued a ...</td>\n",
       "    </tr>\n",
       "    <tr>\n",
       "      <th>3957</th>\n",
       "      <td>Travels in Siberia</td>\n",
       "      <td>In his astonishing new work, Ian Frazier, one ...</td>\n",
       "    </tr>\n",
       "    <tr>\n",
       "      <th>3034</th>\n",
       "      <td>The Gulag Archipelago 1918–1956</td>\n",
       "      <td>Drawing on his own incarceration and exile, as...</td>\n",
       "    </tr>\n",
       "  </tbody>\n",
       "</table>\n",
       "</div>"
      ],
      "text/plain": [
       "                                                  title  \\\n",
       "521                                      The Fatal Eggs   \n",
       "3056       Bloodlands: Europe Between Hitler and Stalin   \n",
       "3404                                               1984   \n",
       "3878                                                Zoo   \n",
       "3163  The Blank Slate: The Modern Denial of Human Na...   \n",
       "3000                   Homo Deus: A History of Tomorrow   \n",
       "2001                                      The Cleansing   \n",
       "813                                    Long Voyage Back   \n",
       "2115                                          Carnosaur   \n",
       "3036           Stalingrad: The Fateful Siege, 1942–1943   \n",
       "770       The Food of the Gods and How It Came to Earth   \n",
       "2970              Sapiens: A Brief History of Humankind   \n",
       "3328                              The Origin of Species   \n",
       "3957                                 Travels in Siberia   \n",
       "3034                    The Gulag Archipelago 1918–1956   \n",
       "\n",
       "                                                summary  \n",
       "521    The Fatal Eggs can be described as a science ...  \n",
       "3056  Americans call the Second World War “The Good ...  \n",
       "3404  Among the seminal texts of the 20th century, N...  \n",
       "3878  Once in a lifetime, a writer puts it all toget...  \n",
       "3163  In The Blank Slate, Steven Pinker explores the...  \n",
       "3000  Yuval Noah Harari, author of the critically-ac...  \n",
       "2001   The book tells the story of an American India...  \n",
       "813    : \"In a nuclear war, the USSR will win. This ...  \n",
       "2115   Set in a rural village in Cambridgeshire, Eng...  \n",
       "3036  The Battle of Stalingrad was not only the psyc...  \n",
       "770    The Food of the Gods is divided into three \"b...  \n",
       "2970  100,000 years ago, at least six human species ...  \n",
       "3328  Darwin's theory of natural selection issued a ...  \n",
       "3957  In his astonishing new work, Ian Frazier, one ...  \n",
       "3034  Drawing on his own incarceration and exile, as...  "
      ]
     },
     "execution_count": 20,
     "metadata": {},
     "output_type": "execute_result"
    }
   ],
   "source": [
    "book_title = \"Animal Farm\"\n",
    "recommendations = recommend_books(book_title)\n",
    "\n",
    "recommendations"
   ]
  }
 ],
 "metadata": {
  "kernelspec": {
   "display_name": "dialogues-topic-models",
   "language": "python",
   "name": "python3"
  },
  "language_info": {
   "codemirror_mode": {
    "name": "ipython",
    "version": 3
   },
   "file_extension": ".py",
   "mimetype": "text/x-python",
   "name": "python",
   "nbconvert_exporter": "python",
   "pygments_lexer": "ipython3",
   "version": "3.11.11"
  }
 },
 "nbformat": 4,
 "nbformat_minor": 5
}
