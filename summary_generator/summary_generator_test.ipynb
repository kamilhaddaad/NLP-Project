{
 "cells": [
  {
   "cell_type": "code",
   "execution_count": 2,
   "id": "0690020d",
   "metadata": {},
   "outputs": [],
   "source": [
    "from peft import PeftModel, PeftConfig\n",
    "from transformers import AutoModelForCausalLM, AutoTokenizer\n",
    "import torch"
   ]
  },
  {
   "cell_type": "code",
   "execution_count": 3,
   "id": "031e6835",
   "metadata": {},
   "outputs": [
    {
     "data": {
      "text/plain": [
       "'cuda'"
      ]
     },
     "execution_count": 3,
     "metadata": {},
     "output_type": "execute_result"
    }
   ],
   "source": [
    "device = 'cuda' if torch.cuda.is_available() else 'cpu'\n",
    "device"
   ]
  },
  {
   "cell_type": "code",
   "execution_count": null,
   "id": "e5ac3dcc",
   "metadata": {},
   "outputs": [
    {
     "data": {
      "text/plain": [
       "PeftModelForCausalLM(\n",
       "  (base_model): LoraModel(\n",
       "    (model): LlamaForCausalLM(\n",
       "      (model): LlamaModel(\n",
       "        (embed_tokens): Embedding(32000, 2048)\n",
       "        (layers): ModuleList(\n",
       "          (0-21): 22 x LlamaDecoderLayer(\n",
       "            (self_attn): LlamaAttention(\n",
       "              (q_proj): lora.Linear(\n",
       "                (base_layer): Linear(in_features=2048, out_features=2048, bias=False)\n",
       "                (lora_dropout): ModuleDict(\n",
       "                  (default): Identity()\n",
       "                )\n",
       "                (lora_A): ModuleDict(\n",
       "                  (default): Linear(in_features=2048, out_features=8, bias=False)\n",
       "                )\n",
       "                (lora_B): ModuleDict(\n",
       "                  (default): Linear(in_features=8, out_features=2048, bias=False)\n",
       "                )\n",
       "                (lora_embedding_A): ParameterDict()\n",
       "                (lora_embedding_B): ParameterDict()\n",
       "                (lora_magnitude_vector): ModuleDict()\n",
       "              )\n",
       "              (k_proj): Linear(in_features=2048, out_features=256, bias=False)\n",
       "              (v_proj): lora.Linear(\n",
       "                (base_layer): Linear(in_features=2048, out_features=256, bias=False)\n",
       "                (lora_dropout): ModuleDict(\n",
       "                  (default): Identity()\n",
       "                )\n",
       "                (lora_A): ModuleDict(\n",
       "                  (default): Linear(in_features=2048, out_features=8, bias=False)\n",
       "                )\n",
       "                (lora_B): ModuleDict(\n",
       "                  (default): Linear(in_features=8, out_features=256, bias=False)\n",
       "                )\n",
       "                (lora_embedding_A): ParameterDict()\n",
       "                (lora_embedding_B): ParameterDict()\n",
       "                (lora_magnitude_vector): ModuleDict()\n",
       "              )\n",
       "              (o_proj): Linear(in_features=2048, out_features=2048, bias=False)\n",
       "            )\n",
       "            (mlp): LlamaMLP(\n",
       "              (gate_proj): Linear(in_features=2048, out_features=5632, bias=False)\n",
       "              (up_proj): Linear(in_features=2048, out_features=5632, bias=False)\n",
       "              (down_proj): Linear(in_features=5632, out_features=2048, bias=False)\n",
       "              (act_fn): SiLU()\n",
       "            )\n",
       "            (input_layernorm): LlamaRMSNorm((2048,), eps=1e-05)\n",
       "            (post_attention_layernorm): LlamaRMSNorm((2048,), eps=1e-05)\n",
       "          )\n",
       "        )\n",
       "        (norm): LlamaRMSNorm((2048,), eps=1e-05)\n",
       "        (rotary_emb): LlamaRotaryEmbedding()\n",
       "      )\n",
       "      (lm_head): Linear(in_features=2048, out_features=32000, bias=False)\n",
       "    )\n",
       "  )\n",
       ")"
      ]
     },
     "execution_count": 4,
     "metadata": {},
     "output_type": "execute_result"
    }
   ],
   "source": [
    "config = PeftConfig.from_pretrained(\"./TinyLlama_finetuned\")\n",
    "base_model = AutoModelForCausalLM.from_pretrained(config.base_model_name_or_path)\n",
    "model = PeftModel.from_pretrained(base_model, \"./TinyLlama_finetuned\")\n",
    "tokenizer = AutoTokenizer.from_pretrained(config.base_model_name_or_path)\n",
    "model.to(device)"
   ]
  },
  {
   "cell_type": "code",
   "execution_count": 20,
   "id": "12fbb1b7",
   "metadata": {},
   "outputs": [
    {
     "name": "stdout",
     "output_type": "stream",
     "text": [
      "<|system|>\n",
      "You are a friendly chatbot.</s> \n",
      "<|user|>\n",
      "Summarize the book Harry Potter with a professional tone</s> \n",
      "<|assistant|>\n",
      "The first book in the Harry Potter series, Harry Potter and the Philosopher's Stone (also known as Harry Potter and the Sorcerer's Stone), is a children's fantasy novel written by British author J.K. Rowling. It was published on July 3, 1997, by Bloomsbury Publishing, and has since been translated into over 80 languages. The story follows the adventures of eleven-year-old Harry Potter, who discovers he is a wizard while attending his sixth year at Hogwarts School of Witchcraft and Wizardry. He soon learns that he is the only person in his family to be born a wizard, and that he must learn to control his powers before they can be used against him. Along the way, Harry encounters a host of magical creatures, including a giant pig named Fluffy, a talking rabbit named Hedwig, and a group of Dementors, dark spirits that seek to destroy anyone who uses magic. The novel also explores themes such as friendship, loyalty, bravery, and the importance of family. The book has sold over 500 million copies worldwide, making it one of the best-selling books of all time. In addition to the novel, there have been several other works based on the Harry Potter series, including two films directed by Chris Columbus, three television series, and a stage play. The series has inspired numerous adaptations, including a stage musical, an animated TV series, and a video game. The Harry Potter series has also inspired a number of merchandise, including books, movies, games, and clothing. The series has also spawned a fan community known as the \"Harry Potter fandom.\" The series has been adapted for the screen twice: once in the United States as Harry Potter and the Philosopher's Stone, and again in the United Kingdom as Harry Potter and the Philosopher's Stone. The second film, Harry Potter and the Chamber of Secrets, was released in 2002, followed by Harry Potter and the Prisoner of Azkaban in 2004, and Harry Potter and the Goblet of Fire in 2005. The final film, Harry Potter and the Deathly Hallows - Part 1, was released in 2010, and the final film, Harry Potter and the Deathly Hallows - Part 2, was released in 2011. The series has also inspired a number of spin-off media, including a comic book series, a video game, and a radio show. The Harry Potter series has also inspired a number of merchandise, including books, movies, games, and clothing. The series has also inspired a fan community known as the \"Harry Potter fandom.\" The series has been adapted for the screen twice: once in the United States as Harry Potter and the Philosopher's Stone, and again in the United Kingdom as Harry Potter and the Philosopher's Stone. The second film, Harry Potter and the Chamber of Secrets, was released in 2002, followed by Harry Potter and the Prisoner of Azkaban in 2004, and Harry Potter and the Goblet of Fire in 2005. The final film, Harry Potter and the Deathly Hallows - Part 1, was released in 2010, and the final film, Harry Potter and the Deathly Hallows - Part 2, was released in 2011. The series has also inspired a number of spin-off media, including a comic book series, a video game, and a radio show. The series has also inspired a fan community known as the \"Harry Potter fandom.\" The series has been adapted for the screen twice: once in the United States as Harry Potter and the Philosopher's Stone, and again in the United Kingdom as Harry Potter and the Philosopher's Stone. The second film, Harry Potter and the Chamber of Secrets, was released in 2002, followed by Harry Potter and the Prisoner of Azkaban in 2004, and Harry Potter and the Goblet of Fire in 2005. The final film, Harry Potter and the Deathly Hallows - Part 1, was released in 2010, and the final film, Harry Potter and the Deathly Hallows - Part 2, was released in 2011. The series has also inspired a number of spin-off media, including a comic book series, a video game, and a radio show. The series has also inspired a fan community known as the \"Harry Potter fandom.\" The series has been adapted for the screen twice: once in the United States as Harry Potter and the Philosopher's Stone, and again in the United Kingdom as Harry Potter and the Philosopher's Stone. The second film, Harry Potter and the Chamber of Secrets, was released in 2002, followed by Harry Potter and the Prisoner of Azkaban in 2004, and Harry Potter and the Goblet of Fire in 2005. The final film, Harry Potter and the Deathly Hallows - Part 1, was released in 2010, and the final film, Harry Potter and the Deathly Hallows - Part 2, was released in 2011. The series has also inspired a number of spin-off media, including a comic book series, a video game, and a radio show. The series has also inspired a fan community known as the \"Harry Potter fandom.\" The series has been adapted for the screen twice: once in the United States as Harry Potter and the Philosopher's Stone, and again in the United Kingdom as Harry Potter and the Philosopher's Stone. The second film, Harry Potter and the Chamber of Secrets, was released in 2002, followed by Harry Potter and the Prisoner of Azkaban in 2004, and Harry Potter and the Goblet of Fire in 2005. The final film, Harry Potter and the Deathly Hallows - Part 1, was released in 2010, and the final film, Harry Potter and the Deathly Hallows - Part 2, was released in 2011. The series has also inspired a number of spin-off media, including a comic book series, a video game, and a radio show. The series has also inspired a fan community known as the \"Harry Potter fandom.\" The series has been adapted for the screen twice: once in the United States as Harry Potter and the Philosopher's Stone, and again in the United Kingdom as Harry Potter and the Philosopher's Stone. The second film, Harry Potter and the Chamber of Secrets, was released in 2002, followed by Harry Potter and the Prisoner of Azkaban in 2004, and Harry Potter and the Goblet of Fire in 2005. The final film, Harry Potter and the Deathly Hallows - Part 1, was released in 2010, and the final film, Harry Potter and the Deathly Hallows - Part 2, was released in 2011. The series has also inspired a number of spin-off media, including a comic book series, a video game, and a radio show. The series has also inspired a fan community known as the \"Harry Potter fandom.\" The series has been adapted for the screen twice: once in the United States as Harry Potter and the Philosopher's Stone, and again in the United Kingdom as Harry Potter and the Philosopher's Stone. The second film, Harry Potter and the Chamber of Secrets, was released in 2002, followed by Harry Potter and the Prisoner of Azkaban in 2004, and Harry Potter and the Goblet of Fire in 2005. The final film, Harry Potter and the Deathly Hallows - Part 1, was released in 2010, and the final film, Harry Potter and the Deathly Hallows - Part 2, was released in 2011. The series has also inspired a number of spin-off media, including a comic book series, a video game, and a radio show. The series has also inspired a fan community known as the \"Harry Potter fandom.\" The series has been adapted for the screen twice: once in the United States as Harry Potter and the Philosopher's Stone, and again in the United Kingdom as Harry Potter and the Philosopher's Stone. The second film, Harry Potter and the Chamber of Secrets, was released in 2002, followed by Harry Potter and the Prisoner of Azkaban in 2004, and Harry Potter and the Goblet of Fire in 2005.\n"
     ]
    }
   ],
   "source": [
    "messages = [\n",
    "    {\n",
    "        \"role\": \"system\",\n",
    "        \"content\": \"You are a friendly chatbot.\",\n",
    "    },\n",
    "    {\"role\": \"user\", \"content\": \"Summarize the book Harry Potter with a professional tone\"},\n",
    "]\n",
    "\n",
    "encodeds = tokenizer.apply_chat_template(messages, return_tensors=\"pt\")\n",
    "model_inputs = encodeds.to(device)\n",
    "\n",
    "with torch.no_grad():\n",
    "    generated_ids = model.generate(\n",
    "        model_inputs, \n",
    "        #max_new_tokens=200,\n",
    "        #num_beams=4,\n",
    "        #early_stopping=True, \n",
    "        repetition_penalty=1.1,\n",
    "        #temperature=0.8, \n",
    "        #top_p=0.9, \n",
    "        #do_sample=True\n",
    "        )\n",
    "\n",
    "decoded = tokenizer.batch_decode(generated_ids)\n",
    "print(decoded[0])\n"
   ]
  },
  {
   "cell_type": "code",
   "execution_count": 35,
   "id": "dbcfa803",
   "metadata": {},
   "outputs": [
    {
     "name": "stdout",
     "output_type": "stream",
     "text": [
      "<|system|>\n",
      "You are a friendly chatbot that communicates with natural language.</s> \n",
      "<|user|>\n",
      "Summarize the book Harry Potter with a funny tone</s> \n",
      "<\\|assistant*>\n",
      "Harry Potter has never even heard of Hogwarts when the letters start dropping on the doormat at number four, Privet Drive. Addressed in green ink on yellowish parchment with a purple seal, they are swiftly confiscated by his grisly aunt and uncle. Then, on Harry's eleventh birthday, a great beetle-eyed giant of a man crashes through a window and crashes into his bedroom. Harry is stunned to see that it's Rubeus Hagrid, the notorious wizard's son. 'You're going to want to hear this story,' he says. 'It's about a young wizard who is forced to face his greatest fears and learn to work through his greatest weaknesses, if he ever hopes to defeat the most powerful and ruthless wizard that ever lived.' Harry does not want to do this. In fact, he doesn't want anything to do with the wizarding world that he's always heard so much about. But when his parents have a terrible accident and die in each other's arms, Harry finds himself on his own. He is sent to live with his uncle and aunt, who live in a large, dark house at the end of a long, narrow street. There are strange creatures roaming the halls, and strange things happen in the shadows. But Harry soon learns that there is more to his world than he ever could have imagined. It turns out that he is a wizard.</s>\n"
     ]
    }
   ],
   "source": [
    "messages = [\n",
    "    {\n",
    "        \"role\": \"system\",\n",
    "        \"content\": \"You are a friendly chatbot that communicates with natural language.\",\n",
    "    },\n",
    "    {\"role\": \"user\", \"content\": \"Summarize the book Harry Potter with a funny tone\"},\n",
    "]\n",
    "\n",
    "encodeds = tokenizer.apply_chat_template(messages, return_tensors=\"pt\")\n",
    "model_inputs = encodeds.to(device)\n",
    "\n",
    "with torch.no_grad():\n",
    "    generated_ids = model.generate(\n",
    "        model_inputs, \n",
    "        max_new_tokens=500,\n",
    "        num_beams=4,\n",
    "        early_stopping=True, \n",
    "        repetition_penalty=1.2,\n",
    "        temperature=0.9, \n",
    "        top_p=0.9, \n",
    "        do_sample=True,\n",
    "        no_repeat_ngram_size=3,\n",
    "        )\n",
    "\n",
    "decoded = tokenizer.batch_decode(generated_ids)\n",
    "print(decoded[0])\n"
   ]
  },
  {
   "cell_type": "code",
   "execution_count": null,
   "id": "0fede8cd",
   "metadata": {},
   "outputs": [],
   "source": [
    "bad_words = [\"(show all)\", \"(hide all)\", \"click here\", \"More Books\", \"(less)\"]\n",
    "bad_word_ids = [tokenizer.encode(bw, add_special_tokens=False) for bw in bad_words]"
   ]
  },
  {
   "cell_type": "code",
   "execution_count": 94,
   "id": "25d92534",
   "metadata": {},
   "outputs": [
    {
     "name": "stdout",
     "output_type": "stream",
     "text": [
      "Harry Potter has never even heard of Hogwarts when the letters start dropping on the doormat at number four, Privet Drive. Addressed in green ink on yellowish parchment with a purple seal, they are swiftly confiscated by his grisly aunt and uncle. Then, on Harry's eleventh birthday, a great beetle-eyed giant of a man crashes through a window and crashes into his bedroom. Harry is stunned to see that it's Rubeus Hagrid, the notoriously rude and aggressive wizard's assistant. \"You're going to want to hear this story,\" he says urgently, handing Harry a leather-bound notebook.\n",
      "\n",
      "Over the next weeks, Harry is in for the adventure of a lifetime. There are strange creatures, terrifying monsters, and unspeakable horrors lurking in the dark corners of the wizarding world. But Harry also finds his loyalty tested as he learns the truth about himself, his family, and the terrible fate that awaits so many of his kind. And only with the help of Ron and Hermione, his two best friends, will he uncover the secrets of his heritage and the enduring power of true friendship.\n",
      "\n",
      " By J.K. Rowling\n"
     ]
    }
   ],
   "source": [
    "messages = [\n",
    "    {\n",
    "        \"role\": \"system\",\n",
    "        \"content\": \"You are a friendly chatbot.\",\n",
    "    },\n",
    "    {\"role\": \"user\", \"content\": \"Summarize the book Harry Potter with a funny tone\"},\n",
    "]\n",
    "\n",
    "encodeds = tokenizer.apply_chat_template(messages, return_tensors=\"pt\", add_generation_prompt=True)\n",
    "model_inputs = encodeds.to(device)\n",
    "\n",
    "while True:\n",
    "    with torch.no_grad():\n",
    "        generated_ids = model.generate(\n",
    "            model_inputs, \n",
    "            max_new_tokens=300,\n",
    "            num_beams=4,\n",
    "            early_stopping=True, \n",
    "            repetition_penalty=1.2,\n",
    "            temperature=0.9, \n",
    "            top_p=0.9, \n",
    "            do_sample=True,\n",
    "            no_repeat_ngram_size=3,\n",
    "            bad_words_ids=bad_word_ids,\n",
    "            )\n",
    "\n",
    "    decoded = tokenizer.batch_decode(generated_ids)\n",
    "    answer = decoded[0]\n",
    "\n",
    "    if \"<|assistant|>\\n\" in answer:\n",
    "        break\n",
    "\n",
    "answer_truncated = answer.split(\"<|assistant|>\\n\")[-1]\n",
    "\n",
    "if \"</s>\" in answer_truncated:\n",
    "    answer_truncated = answer_truncated.split(\"</s>\")[0]\n",
    "\n",
    "for word in bad_words:\n",
    "    answer_truncated = answer_truncated.replace(word, \"\")\n",
    "\n",
    "print(answer_truncated)\n"
   ]
  }
 ],
 "metadata": {
  "kernelspec": {
   "display_name": "nlp-project",
   "language": "python",
   "name": "python3"
  },
  "language_info": {
   "codemirror_mode": {
    "name": "ipython",
    "version": 3
   },
   "file_extension": ".py",
   "mimetype": "text/x-python",
   "name": "python",
   "nbconvert_exporter": "python",
   "pygments_lexer": "ipython3",
   "version": "3.11.11"
  }
 },
 "nbformat": 4,
 "nbformat_minor": 5
}
