{
 "cells": [
  {
   "cell_type": "code",
   "execution_count": 24,
   "id": "f1313e66",
   "metadata": {},
   "outputs": [],
   "source": [
    "import pandas as pd\n",
    "from datasets import Dataset\n",
    "import torch"
   ]
  },
  {
   "cell_type": "code",
   "execution_count": 25,
   "id": "b9b9c3e7",
   "metadata": {},
   "outputs": [
    {
     "data": {
      "text/html": [
       "<div>\n",
       "<style scoped>\n",
       "    .dataframe tbody tr th:only-of-type {\n",
       "        vertical-align: middle;\n",
       "    }\n",
       "\n",
       "    .dataframe tbody tr th {\n",
       "        vertical-align: top;\n",
       "    }\n",
       "\n",
       "    .dataframe thead th {\n",
       "        text-align: right;\n",
       "    }\n",
       "</style>\n",
       "<table border=\"1\" class=\"dataframe\">\n",
       "  <thead>\n",
       "    <tr style=\"text-align: right;\">\n",
       "      <th></th>\n",
       "      <th>index</th>\n",
       "      <th>title</th>\n",
       "      <th>genre</th>\n",
       "      <th>summary</th>\n",
       "    </tr>\n",
       "  </thead>\n",
       "  <tbody>\n",
       "    <tr>\n",
       "      <th>0</th>\n",
       "      <td>0</td>\n",
       "      <td>Drowned Wednesday</td>\n",
       "      <td>fantasy</td>\n",
       "      <td>Drowned Wednesday is the first Trustee among ...</td>\n",
       "    </tr>\n",
       "    <tr>\n",
       "      <th>1</th>\n",
       "      <td>1</td>\n",
       "      <td>The Lost Hero</td>\n",
       "      <td>fantasy</td>\n",
       "      <td>As the book opens, Jason awakens on a school ...</td>\n",
       "    </tr>\n",
       "    <tr>\n",
       "      <th>2</th>\n",
       "      <td>2</td>\n",
       "      <td>The Eyes of the Overworld</td>\n",
       "      <td>fantasy</td>\n",
       "      <td>Cugel is easily persuaded by the merchant Fia...</td>\n",
       "    </tr>\n",
       "    <tr>\n",
       "      <th>3</th>\n",
       "      <td>3</td>\n",
       "      <td>Magic's Promise</td>\n",
       "      <td>fantasy</td>\n",
       "      <td>The book opens with Herald-Mage Vanyel return...</td>\n",
       "    </tr>\n",
       "    <tr>\n",
       "      <th>4</th>\n",
       "      <td>4</td>\n",
       "      <td>Taran Wanderer</td>\n",
       "      <td>fantasy</td>\n",
       "      <td>Taran and Gurgi have returned to Caer Dallben...</td>\n",
       "    </tr>\n",
       "    <tr>\n",
       "      <th>...</th>\n",
       "      <td>...</td>\n",
       "      <td>...</td>\n",
       "      <td>...</td>\n",
       "      <td>...</td>\n",
       "    </tr>\n",
       "    <tr>\n",
       "      <th>4652</th>\n",
       "      <td>4652</td>\n",
       "      <td>Hounded</td>\n",
       "      <td>fantasy</td>\n",
       "      <td>Atticus O’Sullivan, last of the Druids, lives ...</td>\n",
       "    </tr>\n",
       "    <tr>\n",
       "      <th>4653</th>\n",
       "      <td>4653</td>\n",
       "      <td>Charlie and the Chocolate Factory</td>\n",
       "      <td>fantasy</td>\n",
       "      <td>Charlie Bucket's wonderful adventure begins wh...</td>\n",
       "    </tr>\n",
       "    <tr>\n",
       "      <th>4654</th>\n",
       "      <td>4654</td>\n",
       "      <td>Red Rising</td>\n",
       "      <td>fantasy</td>\n",
       "      <td>\"I live for the dream that my children will be...</td>\n",
       "    </tr>\n",
       "    <tr>\n",
       "      <th>4655</th>\n",
       "      <td>4655</td>\n",
       "      <td>Frostbite</td>\n",
       "      <td>fantasy</td>\n",
       "      <td>Rose loves Dimitri, Dimitri might love Tasha, ...</td>\n",
       "    </tr>\n",
       "    <tr>\n",
       "      <th>4656</th>\n",
       "      <td>4656</td>\n",
       "      <td>Radiance</td>\n",
       "      <td>fantasy</td>\n",
       "      <td>The Prince of no value\\nBrishen Khaskem, princ...</td>\n",
       "    </tr>\n",
       "  </tbody>\n",
       "</table>\n",
       "<p>4657 rows × 4 columns</p>\n",
       "</div>"
      ],
      "text/plain": [
       "      index                              title    genre  \\\n",
       "0         0                  Drowned Wednesday  fantasy   \n",
       "1         1                      The Lost Hero  fantasy   \n",
       "2         2          The Eyes of the Overworld  fantasy   \n",
       "3         3                    Magic's Promise  fantasy   \n",
       "4         4                     Taran Wanderer  fantasy   \n",
       "...     ...                                ...      ...   \n",
       "4652   4652                            Hounded  fantasy   \n",
       "4653   4653  Charlie and the Chocolate Factory  fantasy   \n",
       "4654   4654                         Red Rising  fantasy   \n",
       "4655   4655                          Frostbite  fantasy   \n",
       "4656   4656                           Radiance  fantasy   \n",
       "\n",
       "                                                summary  \n",
       "0      Drowned Wednesday is the first Trustee among ...  \n",
       "1      As the book opens, Jason awakens on a school ...  \n",
       "2      Cugel is easily persuaded by the merchant Fia...  \n",
       "3      The book opens with Herald-Mage Vanyel return...  \n",
       "4      Taran and Gurgi have returned to Caer Dallben...  \n",
       "...                                                 ...  \n",
       "4652  Atticus O’Sullivan, last of the Druids, lives ...  \n",
       "4653  Charlie Bucket's wonderful adventure begins wh...  \n",
       "4654  \"I live for the dream that my children will be...  \n",
       "4655  Rose loves Dimitri, Dimitri might love Tasha, ...  \n",
       "4656  The Prince of no value\\nBrishen Khaskem, princ...  \n",
       "\n",
       "[4657 rows x 4 columns]"
      ]
     },
     "execution_count": 25,
     "metadata": {},
     "output_type": "execute_result"
    }
   ],
   "source": [
    "# Load data\n",
    "csv_path = 'data/book_genre_prediction.csv'\n",
    "df = pd.read_csv(csv_path)\n",
    "df"
   ]
  },
  {
   "cell_type": "code",
   "execution_count": null,
   "id": "44be7c5d",
   "metadata": {},
   "outputs": [],
   "source": [
    "PROMPT_TEMPLATE = \"\"\"\n",
    "### Instruction:\n",
    "Summarize the following book.\n",
    "\n",
    "### Input:\n",
    "# Title: {title}\n",
    "\n",
    "### Response:\n",
    "\"\"\""
   ]
  },
  {
   "cell_type": "code",
   "execution_count": 34,
   "id": "9ddae78e",
   "metadata": {},
   "outputs": [],
   "source": [
    "def make_prompt(row):\n",
    "    return PROMPT_TEMPLATE.format(title=row['title'])\n",
    "\n",
    "def make_target(row):\n",
    "    return row['summary'] if isinstance(row['summary'], str) else ''"
   ]
  },
  {
   "cell_type": "code",
   "execution_count": 28,
   "id": "dec9204f",
   "metadata": {},
   "outputs": [],
   "source": [
    "df = df.dropna(subset=['title', 'genre', 'summary'])\n",
    "df['text'] = df.apply(lambda row: make_prompt(row) + ' ' + make_target(row), axis=1)\n",
    "hf_dataset = Dataset.from_pandas(df[['text']])"
   ]
  },
  {
   "cell_type": "code",
   "execution_count": 32,
   "id": "55fe8d15",
   "metadata": {},
   "outputs": [
    {
     "data": {
      "text/plain": [
       "'\\nSummarize the following book.\\nTitle: Drowned Wednesday\\n  Drowned Wednesday is the first Trustee among the Morrow Days who is on Arthur\\'s side and wishes the Will to be fulfilled. She appears as a leviathan/whale and suffers from Gluttony. The book begins when Leaf is visiting Arthur and they are discussing the invitation that Drowned Wednesday sent him. Arthur had been admitted to hospital because of the damage done to his leg when he attempted to enter Tuesday\\'s Treasure Tower. Suddenly, the hospital room becomes flooded with water as the two are transported to the Border Sea of the House. Leaf is snatched away by a large ship with green sails, known as the Flying Mantis, while Arthur remains in his bed. When the Medallion given him by the immortal called the Mariner apparently fails to summon help, Arthur is without hope. Eventually, a buoy marking the pirate Elishar Feverfew\\'s treasure floats toward him. As soon as Arthur opens it, his hand is marked with a bloody red colour. Arthur now has the Red Hand, by which Feverfew marks whoever has found his treasure, so that he can identify them later. Not long after, a scavenging ship called the Moth rescues Arthur. On board, Arthur (going by the name of Arth) is introduced to Sunscorch, the First Mate, and to Captain Catapillow. Their journey brings them through the Line of Storms and into the Border Sea, where they are later pursued by Feverfew\\'s ghostly ship, the Shiver. The damage inflicted on the Moth is serious; therefore Sunscorch commands an Upper House Sorcerer, Dr. Scamandros, to open a transfer portal to elsewhere in the Secondary Realms. Scamandros claims that Arthur is carrying something that interfered with his magic, and tells Sunscorch to throw him overboard. As a last resort, Arthur shows them the Mariner\\'s Medallion, which stops Scamandros saying that they must get rid of Arthur. After going through the transfer portal (with Arthur\\'s help), the ship is grounded on a beach. When Arthur wished to learn what happened to Leaf, Dr. Scamandros applies his sorcery to make it possible. She is revealed to be aboard the ship Flying Mantis. Arthur joins Catapillow for supper, later to reveal his identity. At first, Propaganda issued by Dame Primus (Arthur\\'s Steward) makes them skeptical of this, but they eventually become convinced. A few days later, Wednesday\\'s Dawn takes Arthur to meet Wednesday for her \\'luncheon of seventeen removes\\'. As they approach, Wednesday shrinks into her human form to meet Arthur. During their lunch, Wednesday tells Arthur that after Part 3 of the Will has been released, she will surrender the Third Key to Arthur. Arthur is then taken by Wednesday\\'s Dawn to a place called the triangle in search of his friend Leaf. He learns that Leaf has been forced to work on the Mantis, but is otherwise intact. Arthur later makes a deal with the Raised Rats, a group of anthropomorphic rats brought to the House by the Piper, to take him to Feverfew\\'s hideout, which they believe is inside a miniature world located within Drowned Wednesday\\'s stomach. On the Raised Rats\\' ship, Arthur opens a gift from Dr. Scamandros, which proves to be a golden transfer watch. With this, he communicates with and rescues Dr. Scamandros. He then uses a scrying mirror Dr. Scamandros gave him to watch Leaf. A rat watches him during the scry, and later saves him from a battle with Feverfew. Later, the Rats bring Arthur onto their submarine, where he meets with Suzy Turquiose Blue. In contrast to Suzy\\'s former cockney attitude, she has assumed a more \"ladylike and proper\" demeanor on the orders of Dame Primus. Only when they are no longer on the Border Sea, but under it, does she resume her customary ways of speech and dress. They are, with navigational difficulty, able to enter the stomach of Lady Wednesday and the worldlet therein. There, Arthur and Suzy, disguised as rats, find escaped slaves, professed followers of the Carp. These exiles take them to the Carp, who is the third part of the Will. They are halted in their attempt to escape by Feverfew, who proposes that each of them will try to kill the other by means of one strike only. Arthur fails his first try, then dodges Feverfew and severs his head. Leaf, who is Feverfew\\'s prisoner, then kicks it into a mud puddle containing Nothing, which consumes it. Upon his death, the worldlet begins to collapse. Via the Moth, Arthur and all his friends (with the exception of the reluctant Catapillow) are able to escape. Lady Wednesday recovers from her gluttony, then dies as a result of being poisoned by the worldlet, which had opened a void to Nothing. Arthur, now Duke of the Border Sea, appoints Sunscorch as his Noon and Scamandros as his Dusk. fr:Mercredi sous les flots th:พุธเพชฌฆาต'"
      ]
     },
     "execution_count": 32,
     "metadata": {},
     "output_type": "execute_result"
    }
   ],
   "source": [
    "df.iloc[0,4]"
   ]
  },
  {
   "cell_type": "code",
   "execution_count": null,
   "id": "35a78d60",
   "metadata": {},
   "outputs": [],
   "source": [
    "device = 'cuda' if torch.cuda.is_available() else 'cpu'\n",
    "device"
   ]
  },
  {
   "cell_type": "code",
   "execution_count": null,
   "id": "d4dc7fd6",
   "metadata": {},
   "outputs": [],
   "source": [
    "from transformers import AutoTokenizer, AutoModelForCausalLM\n",
    "\n",
    "# Hugging Face login and Mistral's policy acceptance is required to get access to Mistral\n",
    "tokenizer = AutoTokenizer.from_pretrained(\"TinyLlama/TinyLlama-1.1B-Chat-v1.0\")\n",
    "model = AutoModelForCausalLM.from_pretrained(\"TinyLlama/TinyLlama-1.1B-Chat-v1.0\")\n",
    "model.to(device)"
   ]
  },
  {
   "cell_type": "code",
   "execution_count": 10,
   "id": "88a32b57",
   "metadata": {},
   "outputs": [
    {
     "data": {
      "text/plain": [
       "0"
      ]
     },
     "execution_count": 10,
     "metadata": {},
     "output_type": "execute_result"
    }
   ],
   "source": [
    "torch.cuda.memory_allocated()"
   ]
  },
  {
   "cell_type": "code",
   "execution_count": 52,
   "id": "bbf3e342",
   "metadata": {},
   "outputs": [
    {
     "name": "stdout",
     "output_type": "stream",
     "text": [
      "<|system|>\n",
      "You are a friendly chatbot.</s> \n",
      "<|user|>\n",
      "Summarize the book twilight in a dramatic tone</s> \n",
      "<|assistant|>\n",
      "This novel is undoubtedly a masterpiece, but let us take a dramatic turn on this unforgettable journey with the following synopsis:\n",
      "\n",
      "With breathtaking plot twists and a mind-boggling narrative structure, author Stephenie Meyer's \"Twilight\" will leave you spellbound with its unique and captivating character development. This unforgettable novel chronicles the life of Bella Swan, a shy 17-year-old girl who lives in the idyllic town of Forks, Washington. Despite being raised in a small town, Bella falls in love with Edward Cullen, a mysterious and passionate vampire.\n",
      "\n",
      "However, the story's heartbreak takes a turn as Bella faces the challenges of starting to live with the supernatural being, making her question her love for Edward and putting the entire Cullen family on edge. Along with these plot twists, the book features captivating and enchanting descriptions that capture both the human and supernatural worlds, keeping readers spellbound and enamored.\n",
      "\n",
      "This modern-day romantic novel is a must-read for anyone who loves suspense, action, and a breathtaking love story. Trust me, you're going to be transported into this universe where everything is possible and nothing is certain. So grab your copy and take a trip to Forks. May your heart be forever blessed by this timeless masterpiece.</s>\n"
     ]
    }
   ],
   "source": [
    "messages = [\n",
    "    {\n",
    "        \"role\": \"system\",\n",
    "        \"content\": \"You are a friendly chatbot.\",\n",
    "    },\n",
    "    {\"role\": \"user\", \"content\": \"Summarize the book twilight in a dramatic tone\"},\n",
    "]\n",
    "\n",
    "prompt = \"\"\"\n",
    "### Background:\n",
    "Your are a professional summarization-writing assistant. You got a job to write a summary. Your summary should start and finish in a way how summaries look like. Do not use bullet nor number lists. Do not start nor finish with greeting: just write a summary so it can be copy-pasted.\n",
    "\n",
    "### Instruction\n",
    "Summarize the following book using professional and funny tone.\n",
    "\n",
    "### Input:\n",
    "# Title: Harry Potter\n",
    "\n",
    "### Response:\n",
    "\"\"\"\n",
    "\n",
    "encodeds = tokenizer.apply_chat_template(messages, return_tensors=\"pt\")\n",
    "model_inputs = encodeds.to(device)\n",
    "generated_ids = model.generate(model_inputs, max_new_tokens=1000, do_sample=True)\n",
    "decoded = tokenizer.batch_decode(generated_ids)\n",
    "print(decoded[0])"
   ]
  },
  {
   "cell_type": "code",
   "execution_count": 38,
   "id": "e6e2bf9b",
   "metadata": {},
   "outputs": [
    {
     "name": "stderr",
     "output_type": "stream",
     "text": [
      "/home/aniqu/anaconda3/envs/nlp-project/lib/python3.11/site-packages/transformers/generation/configuration_utils.py:631: UserWarning: `do_sample` is set to `False`. However, `temperature` is set to `0.7` -- this flag is only used in sample-based generation modes. You should set `do_sample=True` or unset `temperature`.\n",
      "  warnings.warn(\n"
     ]
    },
    {
     "name": "stdout",
     "output_type": "stream",
     "text": [
      "### Instruction:\n",
      "Summarize the following book in a gloomy, adult tone.\n",
      "\n",
      "### Input:\n",
      "Title: The Little Prince\n",
      "\n",
      "### Response:\n",
      "The book is a gloomy and adult-themed tale about a young prince who embarks on a journey to find his lost love. The prince encounters various obstacles and encounters a variety of characters, including a wise old bird, a talking flower, and a group of animals. The story is told in a simple, yet poetic style, with vivid descriptions of the characters and their surroundings. The tone is somber and reflective, with a sense of melancholy and longing.\n"
     ]
    }
   ],
   "source": [
    "prompt = \"\"\"### Instruction:\n",
    "Summarize the following book in a gloomy, adult tone.\n",
    "\n",
    "### Input:\n",
    "Title: The Little Prince\n",
    "\n",
    "### Response:\n",
    "\"\"\"\n",
    "ids = tokenizer(prompt, return_tensors=\"pt\").to(model.device)\n",
    "out = model.generate(**ids, max_new_tokens=120, temperature=0.7)\n",
    "print(tokenizer.decode(out[0], skip_special_tokens=True))\n"
   ]
  },
  {
   "cell_type": "code",
   "execution_count": 23,
   "id": "be758439",
   "metadata": {},
   "outputs": [
    {
     "data": {
      "text/plain": [
       "4408715776"
      ]
     },
     "execution_count": 23,
     "metadata": {},
     "output_type": "execute_result"
    }
   ],
   "source": [
    "torch.cuda.memory_allocated()"
   ]
  }
 ],
 "metadata": {
  "kernelspec": {
   "display_name": "nlp-project",
   "language": "python",
   "name": "python3"
  },
  "language_info": {
   "codemirror_mode": {
    "name": "ipython",
    "version": 3
   },
   "file_extension": ".py",
   "mimetype": "text/x-python",
   "name": "python",
   "nbconvert_exporter": "python",
   "pygments_lexer": "ipython3",
   "version": "3.11.11"
  }
 },
 "nbformat": 4,
 "nbformat_minor": 5
}
